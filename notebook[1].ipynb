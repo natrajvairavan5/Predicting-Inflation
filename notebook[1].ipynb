{
 "cells": [
  {
   "cell_type": "code",
   "metadata": {
    "cell_id": "57f4cb757940448ca3c5850b6eec6b51",
    "tags": [],
    "deepnote_to_be_reexecuted": false,
    "source_hash": "ef1867f1",
    "execution_start": 1654309243541,
    "execution_millis": 10,
    "deepnote_cell_type": "code",
    "deepnote_cell_height": 153
   },
   "source": "import pandas as pd\nimport seaborn as sns\nimport matplotlib.pyplot as plt\nimport numpy as np\nfrom datetime import datetime",
   "execution_count": null,
   "outputs": []
  },
  {
   "cell_type": "markdown",
   "source": "### Arima",
   "metadata": {
    "formattedRanges": [],
    "cell_id": "e6439162211c43608895e9f416b47ad6",
    "tags": [],
    "is_collapsed": false,
    "deepnote_cell_type": "text-cell-h3"
   }
  },
  {
   "cell_type": "code",
   "metadata": {
    "cell_id": "b3154bc4e3424d93b9f50e2e597c3a6a",
    "tags": [],
    "deepnote_to_be_reexecuted": false,
    "source_hash": "b9f8a382",
    "execution_start": 1654309436988,
    "execution_millis": 58,
    "deepnote_cell_type": "code",
    "deepnote_cell_height": 467
   },
   "source": "inflation = pd.read_csv(\"/work/Inflation Data - Sheet3.csv\")\ninflation[\"Rate\"] = [np.round(i, decimals=2) for i in inflation[\"Rate\"]]\ninflation[\"Date\"] = pd.to_datetime(inflation[\"Date\"], format=\"%m/%d/%Y\")\ninflation = inflation[:-2]\ninflation.head()",
   "execution_count": null,
   "outputs": [
    {
     "output_type": "execute_result",
     "execution_count": 3,
     "data": {
      "application/vnd.deepnote.dataframe.v3+json": {
       "column_count": 2,
       "row_count": 5,
       "columns": [
        {
         "name": "Date",
         "dtype": "datetime64[ns]",
         "stats": {
          "unique_count": 5,
          "nan_count": 0,
          "min": "2000-01-01 00:00:00",
          "max": "2000-05-01 00:00:00",
          "histogram": [
           {
            "bin_start": 946684800000000000,
            "bin_end": 947730240000000000,
            "count": 1
           },
           {
            "bin_start": 947730240000000000,
            "bin_end": 948775680000000000,
            "count": 0
           },
           {
            "bin_start": 948775680000000000,
            "bin_end": 949821120000000000,
            "count": 1
           },
           {
            "bin_start": 949821120000000000,
            "bin_end": 950866560000000000,
            "count": 0
           },
           {
            "bin_start": 950866560000000000,
            "bin_end": 951912000000000000,
            "count": 1
           },
           {
            "bin_start": 951912000000000000,
            "bin_end": 952957440000000000,
            "count": 0
           },
           {
            "bin_start": 952957440000000000,
            "bin_end": 954002880000000000,
            "count": 0
           },
           {
            "bin_start": 954002880000000000,
            "bin_end": 955048320000000000,
            "count": 1
           },
           {
            "bin_start": 955048320000000000,
            "bin_end": 956093760000000000,
            "count": 0
           },
           {
            "bin_start": 956093760000000000,
            "bin_end": 957139200000000000,
            "count": 1
           }
          ]
         }
        },
        {
         "name": "Rate",
         "dtype": "float64",
         "stats": {
          "unique_count": 4,
          "nan_count": 0,
          "min": "2.7",
          "max": "3.8",
          "histogram": [
           {
            "bin_start": 2.7,
            "bin_end": 2.81,
            "count": 1
           },
           {
            "bin_start": 2.81,
            "bin_end": 2.92,
            "count": 0
           },
           {
            "bin_start": 2.92,
            "bin_end": 3.0300000000000002,
            "count": 0
           },
           {
            "bin_start": 3.0300000000000002,
            "bin_end": 3.14,
            "count": 1
           },
           {
            "bin_start": 3.14,
            "bin_end": 3.25,
            "count": 2
           },
           {
            "bin_start": 3.25,
            "bin_end": 3.36,
            "count": 0
           },
           {
            "bin_start": 3.36,
            "bin_end": 3.4699999999999998,
            "count": 0
           },
           {
            "bin_start": 3.4699999999999998,
            "bin_end": 3.58,
            "count": 0
           },
           {
            "bin_start": 3.58,
            "bin_end": 3.69,
            "count": 0
           },
           {
            "bin_start": 3.69,
            "bin_end": 3.8,
            "count": 1
           }
          ]
         }
        },
        {
         "name": "_deepnote_index_column",
         "dtype": "int64"
        }
       ],
       "rows": [
        {
         "Date": "2000-01-01T00:00:00.000000",
         "Rate": 2.7,
         "_deepnote_index_column": 0
        },
        {
         "Date": "2000-02-01T00:00:00.000000",
         "Rate": 3.2,
         "_deepnote_index_column": 1
        },
        {
         "Date": "2000-03-01T00:00:00.000000",
         "Rate": 3.8,
         "_deepnote_index_column": 2
        },
        {
         "Date": "2000-04-01T00:00:00.000000",
         "Rate": 3.1,
         "_deepnote_index_column": 3
        },
        {
         "Date": "2000-05-01T00:00:00.000000",
         "Rate": 3.2,
         "_deepnote_index_column": 4
        }
       ]
      },
      "text/plain": "        Date  Rate\n0 2000-01-01   2.7\n1 2000-02-01   3.2\n2 2000-03-01   3.8\n3 2000-04-01   3.1\n4 2000-05-01   3.2",
      "text/html": "<div>\n<style scoped>\n    .dataframe tbody tr th:only-of-type {\n        vertical-align: middle;\n    }\n\n    .dataframe tbody tr th {\n        vertical-align: top;\n    }\n\n    .dataframe thead th {\n        text-align: right;\n    }\n</style>\n<table border=\"1\" class=\"dataframe\">\n  <thead>\n    <tr style=\"text-align: right;\">\n      <th></th>\n      <th>Date</th>\n      <th>Rate</th>\n    </tr>\n  </thead>\n  <tbody>\n    <tr>\n      <th>0</th>\n      <td>2000-01-01</td>\n      <td>2.7</td>\n    </tr>\n    <tr>\n      <th>1</th>\n      <td>2000-02-01</td>\n      <td>3.2</td>\n    </tr>\n    <tr>\n      <th>2</th>\n      <td>2000-03-01</td>\n      <td>3.8</td>\n    </tr>\n    <tr>\n      <th>3</th>\n      <td>2000-04-01</td>\n      <td>3.1</td>\n    </tr>\n    <tr>\n      <th>4</th>\n      <td>2000-05-01</td>\n      <td>3.2</td>\n    </tr>\n  </tbody>\n</table>\n</div>"
     },
     "metadata": {}
    }
   ]
  },
  {
   "cell_type": "markdown",
   "source": "Arima Regular",
   "metadata": {
    "formattedRanges": [],
    "cell_id": "801c21dd15a242f194a73c36064f294d",
    "tags": [],
    "is_collapsed": false,
    "deepnote_cell_type": "text-cell-p"
   }
  },
  {
   "cell_type": "code",
   "metadata": {
    "cell_id": "3d28b0fbd8fd463598f7a0d8cf1c62c6",
    "tags": [],
    "deepnote_to_be_reexecuted": false,
    "source_hash": "7446b9fb",
    "execution_start": 1648962803999,
    "execution_millis": 734,
    "deepnote_cell_type": "code",
    "deepnote_cell_height": 501.1875,
    "deepnote_output_heights": [
     21.1875,
     280
    ]
   },
   "source": "plt.plot(inflation[\"Date\"], inflation[\"Rate\"])\nplt.xlabel(\"Month\")\nplt.ylabel(\"Inflation Rate\")\nplt.title(\"Monthly Inflation Rate from 2000 to 2021\")\nplt.axhline(y=np.mean(inflation[\"Rate\"]), color='black', linestyle='-', alpha=0.5)",
   "execution_count": null,
   "outputs": [
    {
     "output_type": "execute_result",
     "execution_count": 3,
     "data": {
      "text/plain": "<matplotlib.lines.Line2D at 0x7f87136a1e50>"
     },
     "metadata": {}
    },
    {
     "data": {
      "text/plain": "<Figure size 432x288 with 1 Axes>",
      "image/png": "[encoded data removed]"
     },
     "metadata": {
      "needs_background": "light",
      "image/png": {
       "width": 384,
       "height": 278
      }
     },
     "output_type": "display_data"
    }
   ]
  },
  {
   "cell_type": "code",
   "metadata": {
    "cell_id": "5c045b9d9f584919ba691f333f7b887f",
    "tags": [],
    "deepnote_to_be_reexecuted": false,
    "source_hash": "6a5cbc68",
    "execution_start": 1648962804735,
    "execution_millis": 201,
    "deepnote_cell_type": "code",
    "deepnote_cell_height": 316.75
   },
   "source": "from statsmodels.tsa.stattools import adfuller\n\ndef adfuller_test(sales):\n    result=adfuller(sales)\n    labels = ['ADF Test Statistic','p-value','#Lags Used','Number of Observations']\n    for value,label in zip(result,labels):\n        print(label+' : '+str(value) )\n\nadfuller_test(inflation[\"Rate\"])",
   "execution_count": null,
   "outputs": [
    {
     "name": "stdout",
     "text": "ADF Test Statistic : -3.3603019601695423\np-value : 0.012388951690341748\n#Lags Used : 15\nNumber of Observations : 248\n",
     "output_type": "stream"
    }
   ]
  },
  {
   "cell_type": "code",
   "metadata": {
    "cell_id": "d51e21f9b0d94101b68db0a7e07a7fde",
    "tags": [],
    "deepnote_to_be_reexecuted": false,
    "source_hash": "8a5c474e",
    "execution_start": 1648962804995,
    "execution_millis": 634,
    "deepnote_cell_type": "code",
    "deepnote_cell_height": 401,
    "deepnote_output_heights": [
     268
    ]
   },
   "source": "from pandas.plotting import autocorrelation_plot\nautocorrelation_plot(inflation[\"Rate\"])\nplt.show()",
   "execution_count": null,
   "outputs": [
    {
     "data": {
      "text/plain": "<Figure size 432x288 with 1 Axes>",
      "image/png": "[encoded data removed]"
     },
     "metadata": {
      "needs_background": "light",
      "image/png": {
       "width": 400,
       "height": 266
      }
     },
     "output_type": "display_data"
    }
   ]
  },
  {
   "cell_type": "code",
   "metadata": {
    "cell_id": "9ce3d0a6cceb4a42b94bb8a2334b6059",
    "tags": [],
    "deepnote_to_be_reexecuted": false,
    "source_hash": "835e51df",
    "execution_start": 1648962805513,
    "execution_millis": 11,
    "deepnote_cell_type": "code",
    "deepnote_cell_height": 99
   },
   "source": "train = inflation[0:int(np.round(0.8*len(inflation), decimals=0)+1)]\ntest = inflation[int(np.round(0.8*len(inflation), decimals=0)+1):]",
   "execution_count": null,
   "outputs": []
  },
  {
   "cell_type": "code",
   "metadata": {
    "cell_id": "4d9e232ecece48af9bed95580c6167ca",
    "tags": [],
    "deepnote_to_be_reexecuted": false,
    "source_hash": "bb002fe6",
    "execution_start": 1648962805536,
    "execution_millis": 10884,
    "deepnote_cell_type": "code",
    "deepnote_cell_height": 1133.375,
    "deepnote_output_heights": [
     null,
     611
    ]
   },
   "source": "from pmdarima.arima import auto_arima\nstepwise_fit = auto_arima(train[\"Rate\"], trace=True, suppress_warnings=True)\nstepwise_fit.summary()",
   "execution_count": null,
   "outputs": [
    {
     "name": "stdout",
     "text": "Performing stepwise search to minimize aic\n ARIMA(2,0,2)(0,0,0)[0] intercept   : AIC=345.628, Time=1.73 sec\n ARIMA(0,0,0)(0,0,0)[0] intercept   : AIC=752.393, Time=0.03 sec\n ARIMA(1,0,0)(0,0,0)[0] intercept   : AIC=373.926, Time=0.25 sec\n ARIMA(0,0,1)(0,0,0)[0] intercept   : AIC=547.625, Time=0.14 sec\n ARIMA(0,0,0)(0,0,0)[0]             : AIC=1040.930, Time=0.02 sec\n ARIMA(1,0,2)(0,0,0)[0] intercept   : AIC=348.625, Time=0.37 sec\n ARIMA(2,0,1)(0,0,0)[0] intercept   : AIC=348.102, Time=0.32 sec\n ARIMA(3,0,2)(0,0,0)[0] intercept   : AIC=351.838, Time=1.25 sec\n ARIMA(2,0,3)(0,0,0)[0] intercept   : AIC=352.015, Time=0.98 sec\n ARIMA(1,0,1)(0,0,0)[0] intercept   : AIC=349.098, Time=0.25 sec\n ARIMA(1,0,3)(0,0,0)[0] intercept   : AIC=350.618, Time=0.42 sec\n ARIMA(3,0,1)(0,0,0)[0] intercept   : AIC=350.052, Time=0.72 sec\n ARIMA(3,0,3)(0,0,0)[0] intercept   : AIC=inf, Time=2.32 sec\n ARIMA(2,0,2)(0,0,0)[0]             : AIC=361.814, Time=0.33 sec\n\nBest model:  ARIMA(2,0,2)(0,0,0)[0] intercept\nTotal fit time: 9.140 seconds\n",
     "output_type": "stream"
    },
    {
     "output_type": "execute_result",
     "execution_count": 7,
     "data": {
      "text/plain": "<class 'statsmodels.iolib.summary.Summary'>\n\"\"\"\n                               SARIMAX Results                                \n==============================================================================\nDep. Variable:                      y   No. Observations:                  212\nModel:               SARIMAX(2, 0, 2)   Log Likelihood                -166.814\nDate:                Sun, 03 Apr 2022   AIC                            345.628\nTime:                        05:13:36   BIC                            365.768\nSample:                             0   HQIC                           353.768\n                                - 212                                         \nCovariance Type:                  opg                                         \n==============================================================================\n                 coef    std err          z      P>|z|      [0.025      0.975]\n------------------------------------------------------------------------------\nintercept      0.0738      0.036      2.047      0.041       0.003       0.145\nar.L1          1.8108      0.064     28.248      0.000       1.685       1.936\nar.L2         -0.8414      0.055    -15.433      0.000      -0.948      -0.735\nma.L1         -0.5947      0.081     -7.375      0.000      -0.753      -0.437\nma.L2         -0.2618      0.070     -3.732      0.000      -0.399      -0.124\nsigma2         0.2795      0.017     16.718      0.000       0.247       0.312\n===================================================================================\nLjung-Box (L1) (Q):                   0.03   Jarque-Bera (JB):              2077.89\nProb(Q):                              0.86   Prob(JB):                         0.00\nHeteroskedasticity (H):               3.05   Skew:                            -2.02\nProb(H) (two-sided):                  0.00   Kurtosis:                        17.79\n===================================================================================\n\nWarnings:\n[1] Covariance matrix calculated using the outer product of gradients (complex-step).\n\"\"\"",
      "text/html": "<table class=\"simpletable\">\n<caption>SARIMAX Results</caption>\n<tr>\n  <th>Dep. Variable:</th>           <td>y</td>        <th>  No. Observations:  </th>    <td>212</td>  \n</tr>\n<tr>\n  <th>Model:</th>           <td>SARIMAX(2, 0, 2)</td> <th>  Log Likelihood     </th> <td>-166.814</td>\n</tr>\n<tr>\n  <th>Date:</th>            <td>Sun, 03 Apr 2022</td> <th>  AIC                </th>  <td>345.628</td>\n</tr>\n<tr>\n  <th>Time:</th>                <td>05:13:36</td>     <th>  BIC                </th>  <td>365.768</td>\n</tr>\n<tr>\n  <th>Sample:</th>                  <td>0</td>        <th>  HQIC               </th>  <td>353.768</td>\n</tr>\n<tr>\n  <th></th>                      <td> - 212</td>      <th>                     </th>     <td> </td>   \n</tr>\n<tr>\n  <th>Covariance Type:</th>        <td>opg</td>       <th>                     </th>     <td> </td>   \n</tr>\n</table>\n<table class=\"simpletable\">\n<tr>\n      <td></td>         <th>coef</th>     <th>std err</th>      <th>z</th>      <th>P>|z|</th>  <th>[0.025</th>    <th>0.975]</th>  \n</tr>\n<tr>\n  <th>intercept</th> <td>    0.0738</td> <td>    0.036</td> <td>    2.047</td> <td> 0.041</td> <td>    0.003</td> <td>    0.145</td>\n</tr>\n<tr>\n  <th>ar.L1</th>     <td>    1.8108</td> <td>    0.064</td> <td>   28.248</td> <td> 0.000</td> <td>    1.685</td> <td>    1.936</td>\n</tr>\n<tr>\n  <th>ar.L2</th>     <td>   -0.8414</td> <td>    0.055</td> <td>  -15.433</td> <td> 0.000</td> <td>   -0.948</td> <td>   -0.735</td>\n</tr>\n<tr>\n  <th>ma.L1</th>     <td>   -0.5947</td> <td>    0.081</td> <td>   -7.375</td> <td> 0.000</td> <td>   -0.753</td> <td>   -0.437</td>\n</tr>\n<tr>\n  <th>ma.L2</th>     <td>   -0.2618</td> <td>    0.070</td> <td>   -3.732</td> <td> 0.000</td> <td>   -0.399</td> <td>   -0.124</td>\n</tr>\n<tr>\n  <th>sigma2</th>    <td>    0.2795</td> <td>    0.017</td> <td>   16.718</td> <td> 0.000</td> <td>    0.247</td> <td>    0.312</td>\n</tr>\n</table>\n<table class=\"simpletable\">\n<tr>\n  <th>Ljung-Box (L1) (Q):</th>     <td>0.03</td> <th>  Jarque-Bera (JB):  </th> <td>2077.89</td>\n</tr>\n<tr>\n  <th>Prob(Q):</th>                <td>0.86</td> <th>  Prob(JB):          </th>  <td>0.00</td>  \n</tr>\n<tr>\n  <th>Heteroskedasticity (H):</th> <td>3.05</td> <th>  Skew:              </th>  <td>-2.02</td> \n</tr>\n<tr>\n  <th>Prob(H) (two-sided):</th>    <td>0.00</td> <th>  Kurtosis:          </th>  <td>17.79</td> \n</tr>\n</table><br/><br/>Warnings:<br/>[1] Covariance matrix calculated using the outer product of gradients (complex-step)."
     },
     "metadata": {}
    }
   ]
  },
  {
   "cell_type": "code",
   "metadata": {
    "cell_id": "38960ab9b43941eda04b6f6d9e4b4e98",
    "tags": [],
    "deepnote_to_be_reexecuted": false,
    "source_hash": "32a98081",
    "execution_start": 1648962816208,
    "execution_millis": 216,
    "deepnote_cell_type": "code",
    "deepnote_cell_height": 328.0625,
    "deepnote_output_heights": [
     213.0625
    ]
   },
   "source": "predictions = stepwise_fit.predict(n_periods=len(test))\npredictions",
   "execution_count": null,
   "outputs": [
    {
     "output_type": "execute_result",
     "execution_count": 8,
     "data": {
      "text/plain": "array([1.78053561, 1.9432421 , 2.0943787 , 2.23114512, 2.35162578,\n       2.45470828, 2.53999016, 2.60767866, 2.65848771, 2.69353565,\n       2.71424685, 2.72225949, 2.7193414 , 2.70731533, 2.68799428,\n       2.66312752, 2.63435699, 2.603184  , 2.57094548, 2.53879905,\n       2.50771593, 2.47848074, 2.45169701, 2.42779741, 2.40705753,\n       2.38961237, 2.3754745 , 2.36455305, 2.35667294, 2.35159357,\n       2.3490266 , 2.34865238, 2.35013469, 2.35313368, 2.35731689,\n       2.36236826, 2.36799522, 2.37393393, 2.37995285, 2.38585467,\n       2.39147696, 2.39669164, 2.40140342, 2.40554754, 2.40908694,\n       2.41200895, 2.41432187, 2.41605134, 2.41723685, 2.41792829,\n       2.41818279, 2.41806185])"
     },
     "metadata": {}
    }
   ]
  },
  {
   "cell_type": "code",
   "metadata": {
    "cell_id": "7785a5428c194e119aae1b4db1e49d7a",
    "tags": [],
    "deepnote_to_be_reexecuted": false,
    "source_hash": "eb1991a9",
    "execution_start": 1648965771075,
    "execution_millis": 1109,
    "deepnote_cell_type": "code",
    "deepnote_cell_height": 503,
    "deepnote_output_heights": [
     280
    ]
   },
   "source": "plt.plot(train[\"Date\"], train[\"Rate\"], label=\"Training\")\nplt.plot(test[\"Date\"], test[\"Rate\"], label=\"Testing\")\nplt.plot(test[\"Date\"], predictions, label=\"Predictions\")\nplt.legend(loc=\"upper left\")\nplt.xlabel(\"Month\")\nplt.ylabel(\"Inflation Rate\")\nplt.title(\"Monthly Inflation Rate from 2000 to 2021\")\nplt.show()",
   "execution_count": null,
   "outputs": [
    {
     "data": {
      "text/plain": "<Figure size 432x288 with 1 Axes>",
      "image/png": "[encoded data removed]"
     },
     "metadata": {
      "needs_background": "light",
      "image/png": {
       "width": 384,
       "height": 278
      }
     },
     "output_type": "display_data"
    }
   ]
  },
  {
   "cell_type": "code",
   "metadata": {
    "cell_id": "7b61602d64c84c5d8489821c1f414b54",
    "tags": [],
    "deepnote_to_be_reexecuted": false,
    "source_hash": "bef8096e",
    "execution_start": 1648962816790,
    "execution_millis": 3887507,
    "deepnote_cell_type": "code",
    "deepnote_cell_height": 136.1875,
    "deepnote_output_heights": [
     21.1875
    ]
   },
   "source": "rmse = np.sqrt(np.mean(sum((test[\"Rate\"] - predictions)**2)))\nrmse",
   "execution_count": null,
   "outputs": [
    {
     "output_type": "execute_result",
     "execution_count": 10,
     "data": {
      "text/plain": "9.116122480029635"
     },
     "metadata": {}
    }
   ]
  },
  {
   "cell_type": "markdown",
   "source": "Arima Diff",
   "metadata": {
    "formattedRanges": [],
    "cell_id": "ba9bb649c7ac4da09cb01c8c1fee52e6",
    "tags": [],
    "is_collapsed": false,
    "deepnote_cell_type": "text-cell-p"
   }
  },
  {
   "cell_type": "code",
   "metadata": {
    "cell_id": "9aafd7fbcc644729b47e5bcf384e89e0",
    "tags": [],
    "deepnote_to_be_reexecuted": false,
    "source_hash": "2621952f",
    "execution_start": 1648962816833,
    "execution_millis": 3,
    "deepnote_cell_type": "code",
    "deepnote_cell_height": 431
   },
   "source": "inflation_diff = inflation.copy()\ninflation_diff[\"diff\"] = inflation_diff[\"Rate\"].diff()\ninflation_diff.head()",
   "execution_count": null,
   "outputs": [
    {
     "output_type": "execute_result",
     "execution_count": 11,
     "data": {
      "application/vnd.deepnote.dataframe.v3+json": {
       "column_count": 3,
       "row_count": 5,
       "columns": [
        {
         "name": "Date",
         "dtype": "datetime64[ns]",
         "stats": {
          "unique_count": 5,
          "nan_count": 0,
          "min": "2000-01-01 00:00:00",
          "max": "2000-05-01 00:00:00",
          "histogram": [
           {
            "bin_start": 946684800000000000,
            "bin_end": 947730240000000000,
            "count": 1
           },
           {
            "bin_start": 947730240000000000,
            "bin_end": 948775680000000000,
            "count": 0
           },
           {
            "bin_start": 948775680000000000,
            "bin_end": 949821120000000000,
            "count": 1
           },
           {
            "bin_start": 949821120000000000,
            "bin_end": 950866560000000000,
            "count": 0
           },
           {
            "bin_start": 950866560000000000,
            "bin_end": 951912000000000000,
            "count": 1
           },
           {
            "bin_start": 951912000000000000,
            "bin_end": 952957440000000000,
            "count": 0
           },
           {
            "bin_start": 952957440000000000,
            "bin_end": 954002880000000000,
            "count": 0
           },
           {
            "bin_start": 954002880000000000,
            "bin_end": 955048320000000000,
            "count": 1
           },
           {
            "bin_start": 955048320000000000,
            "bin_end": 956093760000000000,
            "count": 0
           },
           {
            "bin_start": 956093760000000000,
            "bin_end": 957139200000000000,
            "count": 1
           }
          ]
         }
        },
        {
         "name": "Rate",
         "dtype": "float64",
         "stats": {
          "unique_count": 4,
          "nan_count": 0,
          "min": "2.7",
          "max": "3.8",
          "histogram": [
           {
            "bin_start": 2.7,
            "bin_end": 2.81,
            "count": 1
           },
           {
            "bin_start": 2.81,
            "bin_end": 2.92,
            "count": 0
           },
           {
            "bin_start": 2.92,
            "bin_end": 3.0300000000000002,
            "count": 0
           },
           {
            "bin_start": 3.0300000000000002,
            "bin_end": 3.14,
            "count": 1
           },
           {
            "bin_start": 3.14,
            "bin_end": 3.25,
            "count": 2
           },
           {
            "bin_start": 3.25,
            "bin_end": 3.36,
            "count": 0
           },
           {
            "bin_start": 3.36,
            "bin_end": 3.4699999999999998,
            "count": 0
           },
           {
            "bin_start": 3.4699999999999998,
            "bin_end": 3.58,
            "count": 0
           },
           {
            "bin_start": 3.58,
            "bin_end": 3.69,
            "count": 0
           },
           {
            "bin_start": 3.69,
            "bin_end": 3.8,
            "count": 1
           }
          ]
         }
        },
        {
         "name": "diff",
         "dtype": "float64",
         "stats": {
          "unique_count": 4,
          "nan_count": 1,
          "min": "-0.6999999999999997",
          "max": "0.5999999999999996",
          "histogram": [
           {
            "bin_start": -0.6999999999999997,
            "bin_end": -0.5699999999999998,
            "count": 1
           },
           {
            "bin_start": -0.5699999999999998,
            "bin_end": -0.43999999999999984,
            "count": 0
           },
           {
            "bin_start": -0.43999999999999984,
            "bin_end": -0.3099999999999999,
            "count": 0
           },
           {
            "bin_start": -0.3099999999999999,
            "bin_end": -0.17999999999999994,
            "count": 0
           },
           {
            "bin_start": -0.17999999999999994,
            "bin_end": -0.050000000000000044,
            "count": 0
           },
           {
            "bin_start": -0.050000000000000044,
            "bin_end": 0.07999999999999996,
            "count": 0
           },
           {
            "bin_start": 0.07999999999999996,
            "bin_end": 0.20999999999999996,
            "count": 1
           },
           {
            "bin_start": 0.20999999999999996,
            "bin_end": 0.33999999999999986,
            "count": 0
           },
           {
            "bin_start": 0.33999999999999986,
            "bin_end": 0.46999999999999975,
            "count": 0
           },
           {
            "bin_start": 0.46999999999999975,
            "bin_end": 0.5999999999999996,
            "count": 2
           }
          ]
         }
        },
        {
         "name": "_deepnote_index_column",
         "dtype": "int64"
        }
       ],
       "rows": [
        {
         "Date": "2000-01-01T00:00:00.000000",
         "Rate": 2.7,
         "diff": "nan",
         "_deepnote_index_column": 0
        },
        {
         "Date": "2000-02-01T00:00:00.000000",
         "Rate": 3.2,
         "diff": 0.5,
         "_deepnote_index_column": 1
        },
        {
         "Date": "2000-03-01T00:00:00.000000",
         "Rate": 3.8,
         "diff": 0.5999999999999996,
         "_deepnote_index_column": 2
        },
        {
         "Date": "2000-04-01T00:00:00.000000",
         "Rate": 3.1,
         "diff": -0.6999999999999997,
         "_deepnote_index_column": 3
        },
        {
         "Date": "2000-05-01T00:00:00.000000",
         "Rate": 3.2,
         "diff": 0.10000000000000009,
         "_deepnote_index_column": 4
        }
       ]
      },
      "text/plain": "        Date  Rate  diff\n0 2000-01-01   2.7   NaN\n1 2000-02-01   3.2   0.5\n2 2000-03-01   3.8   0.6\n3 2000-04-01   3.1  -0.7\n4 2000-05-01   3.2   0.1",
      "text/html": "<div>\n<style scoped>\n    .dataframe tbody tr th:only-of-type {\n        vertical-align: middle;\n    }\n\n    .dataframe tbody tr th {\n        vertical-align: top;\n    }\n\n    .dataframe thead th {\n        text-align: right;\n    }\n</style>\n<table border=\"1\" class=\"dataframe\">\n  <thead>\n    <tr style=\"text-align: right;\">\n      <th></th>\n      <th>Date</th>\n      <th>Rate</th>\n      <th>diff</th>\n    </tr>\n  </thead>\n  <tbody>\n    <tr>\n      <th>0</th>\n      <td>2000-01-01</td>\n      <td>2.7</td>\n      <td>NaN</td>\n    </tr>\n    <tr>\n      <th>1</th>\n      <td>2000-02-01</td>\n      <td>3.2</td>\n      <td>0.5</td>\n    </tr>\n    <tr>\n      <th>2</th>\n      <td>2000-03-01</td>\n      <td>3.8</td>\n      <td>0.6</td>\n    </tr>\n    <tr>\n      <th>3</th>\n      <td>2000-04-01</td>\n      <td>3.1</td>\n      <td>-0.7</td>\n    </tr>\n    <tr>\n      <th>4</th>\n      <td>2000-05-01</td>\n      <td>3.2</td>\n      <td>0.1</td>\n    </tr>\n  </tbody>\n</table>\n</div>"
     },
     "metadata": {}
    }
   ]
  },
  {
   "cell_type": "code",
   "metadata": {
    "cell_id": "7f039c77ec564747a6b1f48610786b9f",
    "tags": [],
    "deepnote_to_be_reexecuted": false,
    "source_hash": "b03ce4b1",
    "execution_start": 1648962816878,
    "execution_millis": 0,
    "deepnote_cell_type": "code",
    "deepnote_cell_height": 81
   },
   "source": "inflation_diff = inflation_diff.dropna()",
   "execution_count": null,
   "outputs": []
  },
  {
   "cell_type": "code",
   "metadata": {
    "cell_id": "0c95f8438e954d76bb6a55d25d89a90b",
    "tags": [],
    "deepnote_to_be_reexecuted": false,
    "source_hash": "1f61334d",
    "execution_start": 1648962816879,
    "execution_millis": 33,
    "deepnote_cell_type": "code",
    "deepnote_cell_height": 600
   },
   "source": "inflation_diff",
   "execution_count": null,
   "outputs": [
    {
     "output_type": "execute_result",
     "execution_count": 13,
     "data": {
      "application/vnd.deepnote.dataframe.v3+json": {
       "column_count": 3,
       "row_count": 263,
       "columns": [
        {
         "name": "Date",
         "dtype": "datetime64[ns]",
         "stats": {
          "unique_count": 263,
          "nan_count": 0,
          "min": "2000-02-01 00:00:00",
          "max": "2021-12-01 00:00:00",
          "histogram": [
           {
            "bin_start": 949363200000000000,
            "bin_end": 1018258560000000000,
            "count": 27
           },
           {
            "bin_start": 1018258560000000000,
            "bin_end": 1087153920000000000,
            "count": 26
           },
           {
            "bin_start": 1087153920000000000,
            "bin_end": 1156049280000000000,
            "count": 26
           },
           {
            "bin_start": 1156049280000000000,
            "bin_end": 1224944640000000000,
            "count": 26
           },
           {
            "bin_start": 1224944640000000000,
            "bin_end": 1293840000000000000,
            "count": 26
           },
           {
            "bin_start": 1293840000000000000,
            "bin_end": 1362735360000000000,
            "count": 27
           },
           {
            "bin_start": 1362735360000000000,
            "bin_end": 1431630720000000000,
            "count": 26
           },
           {
            "bin_start": 1431630720000000000,
            "bin_end": 1500526080000000000,
            "count": 26
           },
           {
            "bin_start": 1500526080000000000,
            "bin_end": 1569421440000000000,
            "count": 26
           },
           {
            "bin_start": 1569421440000000000,
            "bin_end": 1638316800000000000,
            "count": 27
           }
          ]
         }
        },
        {
         "name": "Rate",
         "dtype": "float64",
         "stats": {
          "unique_count": 60,
          "nan_count": 0,
          "min": "-2.1",
          "max": "7.0",
          "histogram": [
           {
            "bin_start": -2.1,
            "bin_end": -1.1900000000000002,
            "count": 5
           },
           {
            "bin_start": -1.1900000000000002,
            "bin_end": -0.28000000000000025,
            "count": 2
           },
           {
            "bin_start": -0.28000000000000025,
            "bin_end": 0.6299999999999994,
            "count": 18
           },
           {
            "bin_start": 0.6299999999999994,
            "bin_end": 1.5399999999999996,
            "count": 48
           },
           {
            "bin_start": 1.5399999999999996,
            "bin_end": 2.4499999999999997,
            "count": 86
           },
           {
            "bin_start": 2.4499999999999997,
            "bin_end": 3.359999999999999,
            "count": 49
           },
           {
            "bin_start": 3.359999999999999,
            "bin_end": 4.27,
            "count": 38
           },
           {
            "bin_start": 4.27,
            "bin_end": 5.18,
            "count": 8
           },
           {
            "bin_start": 5.18,
            "bin_end": 6.09,
            "count": 6
           },
           {
            "bin_start": 6.09,
            "bin_end": 7,
            "count": 3
           }
          ]
         }
        },
        {
         "name": "diff",
         "dtype": "float64",
         "stats": {
          "unique_count": 66,
          "nan_count": 0,
          "min": "-4.5",
          "max": "2.0",
          "histogram": [
           {
            "bin_start": -4.5,
            "bin_end": -3.85,
            "count": 1
           },
           {
            "bin_start": -3.85,
            "bin_end": -3.2,
            "count": 0
           },
           {
            "bin_start": -3.2,
            "bin_end": -2.55,
            "count": 1
           },
           {
            "bin_start": -2.55,
            "bin_end": -1.9,
            "count": 1
           },
           {
            "bin_start": -1.9,
            "bin_end": -1.25,
            "count": 1
           },
           {
            "bin_start": -1.25,
            "bin_end": -0.5999999999999996,
            "count": 16
           },
           {
            "bin_start": -0.5999999999999996,
            "bin_end": 0.04999999999999982,
            "count": 121
           },
           {
            "bin_start": 0.04999999999999982,
            "bin_end": 0.7000000000000002,
            "count": 105
           },
           {
            "bin_start": 0.7000000000000002,
            "bin_end": 1.3500000000000005,
            "count": 15
           },
           {
            "bin_start": 1.3500000000000005,
            "bin_end": 2,
            "count": 2
           }
          ]
         }
        },
        {
         "name": "_deepnote_index_column",
         "dtype": "int64"
        }
       ],
       "rows": [
        {
         "Date": "2000-02-01T00:00:00.000000",
         "Rate": 3.2,
         "diff": 0.5,
         "_deepnote_index_column": 1
        },
        {
         "Date": "2000-03-01T00:00:00.000000",
         "Rate": 3.8,
         "diff": 0.5999999999999996,
         "_deepnote_index_column": 2
        },
        {
         "Date": "2000-04-01T00:00:00.000000",
         "Rate": 3.1,
         "diff": -0.6999999999999997,
         "_deepnote_index_column": 3
        },
        {
         "Date": "2000-05-01T00:00:00.000000",
         "Rate": 3.2,
         "diff": 0.10000000000000009,
         "_deepnote_index_column": 4
        },
        {
         "Date": "2000-06-01T00:00:00.000000",
         "Rate": 3.7,
         "diff": 0.5,
         "_deepnote_index_column": 5
        },
        {
         "Date": "2000-07-01T00:00:00.000000",
         "Rate": 3.7,
         "diff": 0,
         "_deepnote_index_column": 6
        },
        {
         "Date": "2000-08-01T00:00:00.000000",
         "Rate": 3.4,
         "diff": -0.30000000000000027,
         "_deepnote_index_column": 7
        },
        {
         "Date": "2000-09-01T00:00:00.000000",
         "Rate": 3.5,
         "diff": 0.10000000000000009,
         "_deepnote_index_column": 8
        },
        {
         "Date": "2000-10-01T00:00:00.000000",
         "Rate": 3.4,
         "diff": -0.10000000000000009,
         "_deepnote_index_column": 9
        },
        {
         "Date": "2000-11-01T00:00:00.000000",
         "Rate": 3.4,
         "diff": 0,
         "_deepnote_index_column": 10
        }
       ]
      },
      "text/plain": "          Date  Rate  diff\n1   2000-02-01   3.2   0.5\n2   2000-03-01   3.8   0.6\n3   2000-04-01   3.1  -0.7\n4   2000-05-01   3.2   0.1\n5   2000-06-01   3.7   0.5\n..         ...   ...   ...\n259 2021-08-01   0.2   0.0\n260 2021-09-01   0.0  -0.2\n261 2021-10-01   0.2   0.2\n262 2021-11-01   0.5   0.3\n263 2021-12-01   0.7   0.2\n\n[263 rows x 3 columns]",
      "text/html": "<div>\n<style scoped>\n    .dataframe tbody tr th:only-of-type {\n        vertical-align: middle;\n    }\n\n    .dataframe tbody tr th {\n        vertical-align: top;\n    }\n\n    .dataframe thead th {\n        text-align: right;\n    }\n</style>\n<table border=\"1\" class=\"dataframe\">\n  <thead>\n    <tr style=\"text-align: right;\">\n      <th></th>\n      <th>Date</th>\n      <th>Rate</th>\n      <th>diff</th>\n    </tr>\n  </thead>\n  <tbody>\n    <tr>\n      <th>1</th>\n      <td>2000-02-01</td>\n      <td>3.2</td>\n      <td>0.5</td>\n    </tr>\n    <tr>\n      <th>2</th>\n      <td>2000-03-01</td>\n      <td>3.8</td>\n      <td>0.6</td>\n    </tr>\n    <tr>\n      <th>3</th>\n      <td>2000-04-01</td>\n      <td>3.1</td>\n      <td>-0.7</td>\n    </tr>\n    <tr>\n      <th>4</th>\n      <td>2000-05-01</td>\n      <td>3.2</td>\n      <td>0.1</td>\n    </tr>\n    <tr>\n      <th>5</th>\n      <td>2000-06-01</td>\n      <td>3.7</td>\n      <td>0.5</td>\n    </tr>\n    <tr>\n      <th>...</th>\n      <td>...</td>\n      <td>...</td>\n      <td>...</td>\n    </tr>\n    <tr>\n      <th>259</th>\n      <td>2021-08-01</td>\n      <td>0.2</td>\n      <td>0.0</td>\n    </tr>\n    <tr>\n      <th>260</th>\n      <td>2021-09-01</td>\n      <td>0.0</td>\n      <td>-0.2</td>\n    </tr>\n    <tr>\n      <th>261</th>\n      <td>2021-10-01</td>\n      <td>0.2</td>\n      <td>0.2</td>\n    </tr>\n    <tr>\n      <th>262</th>\n      <td>2021-11-01</td>\n      <td>0.5</td>\n      <td>0.3</td>\n    </tr>\n    <tr>\n      <th>263</th>\n      <td>2021-12-01</td>\n      <td>0.7</td>\n      <td>0.2</td>\n    </tr>\n  </tbody>\n</table>\n<p>263 rows × 3 columns</p>\n</div>"
     },
     "metadata": {}
    }
   ]
  },
  {
   "cell_type": "code",
   "metadata": {
    "cell_id": "a95ac217ead8406f884b2c373413a5cb",
    "tags": [],
    "deepnote_to_be_reexecuted": false,
    "source_hash": "ac1750d6",
    "execution_start": 1648962816929,
    "execution_millis": 20,
    "deepnote_cell_type": "code",
    "deepnote_cell_height": 172.75
   },
   "source": "adfuller_test(inflation_diff[\"diff\"])",
   "execution_count": null,
   "outputs": [
    {
     "name": "stdout",
     "text": "ADF Test Statistic : -5.527818651957006\np-value : 1.8158766626101137e-06\n#Lags Used : 14\nNumber of Observations : 248\n",
     "output_type": "stream"
    }
   ]
  },
  {
   "cell_type": "code",
   "metadata": {
    "cell_id": "cc2ed94e42b24c9ab23783a5bd85062a",
    "tags": [],
    "deepnote_to_be_reexecuted": false,
    "source_hash": "92649749",
    "execution_start": 1648962816965,
    "execution_millis": 618,
    "deepnote_cell_type": "code",
    "deepnote_cell_height": 501.1875,
    "deepnote_output_heights": [
     21.1875,
     280
    ]
   },
   "source": "plt.plot(inflation_diff[\"Date\"], inflation_diff[\"diff\"])\nplt.xlabel(\"Month\")\nplt.ylabel(\"Change\")\nplt.title(\"Change in Monthly Inflation Rate from 2000-2021\")\nplt.axhline(y=0.0, color='black', linestyle='-', alpha=0.5)",
   "execution_count": null,
   "outputs": [
    {
     "output_type": "execute_result",
     "execution_count": 15,
     "data": {
      "text/plain": "<matplotlib.lines.Line2D at 0x7f870d24b590>"
     },
     "metadata": {}
    },
    {
     "data": {
      "text/plain": "<Figure size 432x288 with 1 Axes>",
      "image/png": "[encoded data removed]"
     },
     "metadata": {
      "needs_background": "light",
      "image/png": {
       "width": 384,
       "height": 278
      }
     },
     "output_type": "display_data"
    }
   ]
  },
  {
   "cell_type": "code",
   "metadata": {
    "cell_id": "e86e01dec9be4c0eb49a13b20ade4092",
    "tags": [],
    "deepnote_to_be_reexecuted": false,
    "source_hash": "a5d53fca",
    "execution_start": 1648962817607,
    "execution_millis": 3887895,
    "deepnote_cell_type": "code",
    "deepnote_cell_height": 99
   },
   "source": "train_diff = inflation_diff[0:int(np.round(0.8*len(inflation_diff), decimals=0)+1)]\ntest_diff = inflation_diff[int(np.round(0.8*len(inflation_diff), decimals=0)+1):]",
   "execution_count": null,
   "outputs": []
  },
  {
   "cell_type": "code",
   "metadata": {
    "cell_id": "8a808051209c4438b20f54643a18fe09",
    "tags": [],
    "deepnote_to_be_reexecuted": false,
    "source_hash": "446de493",
    "execution_start": 1648962817669,
    "execution_millis": 2481,
    "deepnote_cell_type": "code",
    "deepnote_cell_height": 1031.9375,
    "deepnote_output_heights": [
     null,
     529.75
    ]
   },
   "source": "from pmdarima.arima import auto_arima\nstepwise_fit = auto_arima(train_diff[\"diff\"], trace=True, suppress_warnings=True)\nstepwise_fit.summary()",
   "execution_count": null,
   "outputs": [
    {
     "name": "stdout",
     "text": "Performing stepwise search to minimize aic\n ARIMA(2,0,2)(0,0,0)[0] intercept   : AIC=362.805, Time=0.58 sec\n ARIMA(0,0,0)(0,0,0)[0] intercept   : AIC=378.534, Time=0.10 sec\n ARIMA(1,0,0)(0,0,0)[0] intercept   : AIC=360.067, Time=0.09 sec\n ARIMA(0,0,1)(0,0,0)[0] intercept   : AIC=358.795, Time=0.12 sec\n ARIMA(0,0,0)(0,0,0)[0]             : AIC=376.548, Time=0.05 sec\n ARIMA(1,0,1)(0,0,0)[0] intercept   : AIC=360.534, Time=0.23 sec\n ARIMA(0,0,2)(0,0,0)[0] intercept   : AIC=360.449, Time=0.18 sec\n ARIMA(1,0,2)(0,0,0)[0] intercept   : AIC=361.290, Time=0.40 sec\n ARIMA(0,0,1)(0,0,0)[0]             : AIC=356.803, Time=0.07 sec\n ARIMA(1,0,1)(0,0,0)[0]             : AIC=358.541, Time=0.18 sec\n ARIMA(0,0,2)(0,0,0)[0]             : AIC=358.456, Time=0.15 sec\n ARIMA(1,0,0)(0,0,0)[0]             : AIC=358.072, Time=0.07 sec\n ARIMA(1,0,2)(0,0,0)[0]             : AIC=359.297, Time=0.24 sec\n\nBest model:  ARIMA(0,0,1)(0,0,0)[0]          \nTotal fit time: 2.483 seconds\n",
     "output_type": "stream"
    },
    {
     "output_type": "execute_result",
     "execution_count": 17,
     "data": {
      "text/plain": "<class 'statsmodels.iolib.summary.Summary'>\n\"\"\"\n                               SARIMAX Results                                \n==============================================================================\nDep. Variable:                      y   No. Observations:                  211\nModel:               SARIMAX(0, 0, 1)   Log Likelihood                -176.402\nDate:                Sun, 03 Apr 2022   AIC                            356.803\nTime:                        05:13:40   BIC                            363.507\nSample:                             0   HQIC                           359.513\n                                - 211                                         \nCovariance Type:                  opg                                         \n==============================================================================\n                 coef    std err          z      P>|z|      [0.025      0.975]\n------------------------------------------------------------------------------\nma.L1          0.3162      0.040      7.825      0.000       0.237       0.395\nsigma2         0.3115      0.009     34.485      0.000       0.294       0.329\n===================================================================================\nLjung-Box (L1) (Q):                   0.04   Jarque-Bera (JB):              3936.24\nProb(Q):                              0.84   Prob(JB):                         0.00\nHeteroskedasticity (H):               3.26   Skew:                            -2.66\nProb(H) (two-sided):                  0.00   Kurtosis:                        23.48\n===================================================================================\n\nWarnings:\n[1] Covariance matrix calculated using the outer product of gradients (complex-step).\n\"\"\"",
      "text/html": "<table class=\"simpletable\">\n<caption>SARIMAX Results</caption>\n<tr>\n  <th>Dep. Variable:</th>           <td>y</td>        <th>  No. Observations:  </th>    <td>211</td>  \n</tr>\n<tr>\n  <th>Model:</th>           <td>SARIMAX(0, 0, 1)</td> <th>  Log Likelihood     </th> <td>-176.402</td>\n</tr>\n<tr>\n  <th>Date:</th>            <td>Sun, 03 Apr 2022</td> <th>  AIC                </th>  <td>356.803</td>\n</tr>\n<tr>\n  <th>Time:</th>                <td>05:13:40</td>     <th>  BIC                </th>  <td>363.507</td>\n</tr>\n<tr>\n  <th>Sample:</th>                  <td>0</td>        <th>  HQIC               </th>  <td>359.513</td>\n</tr>\n<tr>\n  <th></th>                      <td> - 211</td>      <th>                     </th>     <td> </td>   \n</tr>\n<tr>\n  <th>Covariance Type:</th>        <td>opg</td>       <th>                     </th>     <td> </td>   \n</tr>\n</table>\n<table class=\"simpletable\">\n<tr>\n     <td></td>       <th>coef</th>     <th>std err</th>      <th>z</th>      <th>P>|z|</th>  <th>[0.025</th>    <th>0.975]</th>  \n</tr>\n<tr>\n  <th>ma.L1</th>  <td>    0.3162</td> <td>    0.040</td> <td>    7.825</td> <td> 0.000</td> <td>    0.237</td> <td>    0.395</td>\n</tr>\n<tr>\n  <th>sigma2</th> <td>    0.3115</td> <td>    0.009</td> <td>   34.485</td> <td> 0.000</td> <td>    0.294</td> <td>    0.329</td>\n</tr>\n</table>\n<table class=\"simpletable\">\n<tr>\n  <th>Ljung-Box (L1) (Q):</th>     <td>0.04</td> <th>  Jarque-Bera (JB):  </th> <td>3936.24</td>\n</tr>\n<tr>\n  <th>Prob(Q):</th>                <td>0.84</td> <th>  Prob(JB):          </th>  <td>0.00</td>  \n</tr>\n<tr>\n  <th>Heteroskedasticity (H):</th> <td>3.26</td> <th>  Skew:              </th>  <td>-2.66</td> \n</tr>\n<tr>\n  <th>Prob(H) (two-sided):</th>    <td>0.00</td> <th>  Kurtosis:          </th>  <td>23.48</td> \n</tr>\n</table><br/><br/>Warnings:<br/>[1] Covariance matrix calculated using the outer product of gradients (complex-step)."
     },
     "metadata": {}
    }
   ]
  },
  {
   "cell_type": "code",
   "metadata": {
    "cell_id": "b964b7fbdc6a4dbbaab4231d1e6273f6",
    "tags": [],
    "deepnote_to_be_reexecuted": false,
    "source_hash": "21e69bfd",
    "execution_start": 1648962820164,
    "execution_millis": 48,
    "deepnote_cell_type": "code",
    "deepnote_cell_height": 328.0625,
    "deepnote_output_heights": [
     213.0625
    ]
   },
   "source": "predictions_diff = stepwise_fit.predict(n_periods=len(test_diff))\npredictions_diff",
   "execution_count": null,
   "outputs": [
    {
     "output_type": "execute_result",
     "execution_count": 18,
     "data": {
      "text/plain": "array([-0.05607329,  0.        ,  0.        ,  0.        ,  0.        ,\n        0.        ,  0.        ,  0.        ,  0.        ,  0.        ,\n        0.        ,  0.        ,  0.        ,  0.        ,  0.        ,\n        0.        ,  0.        ,  0.        ,  0.        ,  0.        ,\n        0.        ,  0.        ,  0.        ,  0.        ,  0.        ,\n        0.        ,  0.        ,  0.        ,  0.        ,  0.        ,\n        0.        ,  0.        ,  0.        ,  0.        ,  0.        ,\n        0.        ,  0.        ,  0.        ,  0.        ,  0.        ,\n        0.        ,  0.        ,  0.        ,  0.        ,  0.        ,\n        0.        ,  0.        ,  0.        ,  0.        ,  0.        ,\n        0.        ,  0.        ])"
     },
     "metadata": {}
    }
   ]
  },
  {
   "cell_type": "code",
   "metadata": {
    "cell_id": "4464b676b4d64710997efc8fb9daa608",
    "tags": [],
    "deepnote_to_be_reexecuted": false,
    "source_hash": "f836e2d0",
    "execution_start": 1648962820224,
    "execution_millis": 458,
    "deepnote_cell_type": "code",
    "deepnote_cell_height": 419,
    "deepnote_output_heights": [
     250
    ]
   },
   "source": "plt.plot(train_diff[\"Date\"], train_diff[\"diff\"], label=\"Training\")\nplt.plot(test_diff[\"Date\"], test_diff[\"diff\"], label=\"Testing\")\nplt.plot(test_diff[\"Date\"], predictions_diff, label=\"Predictions\")\nplt.legend(loc=\"upper left\")\nplt.show()",
   "execution_count": null,
   "outputs": [
    {
     "data": {
      "text/plain": "<Figure size 432x288 with 1 Axes>",
      "image/png": "[encoded data removed]"
     },
     "metadata": {
      "needs_background": "light",
      "image/png": {
       "width": 370,
       "height": 248
      }
     },
     "output_type": "display_data"
    }
   ]
  },
  {
   "cell_type": "code",
   "metadata": {
    "cell_id": "254dfa03890b4131a83fb3024e5696b6",
    "tags": [],
    "deepnote_to_be_reexecuted": false,
    "source_hash": "e30ef175",
    "execution_start": 1648962820690,
    "execution_millis": 14,
    "deepnote_cell_type": "code",
    "deepnote_cell_height": 154.1875,
    "deepnote_output_heights": [
     21.1875
    ]
   },
   "source": "rmse = np.sqrt(np.mean(sum((test_diff[\"Rate\"] - predictions_diff)**2)))\n#np.sqrt(np.mean(sum((reg[\"Error\"])**2)))\nrmse",
   "execution_count": null,
   "outputs": [
    {
     "output_type": "execute_result",
     "execution_count": 20,
     "data": {
      "text/plain": "12.883857861244659"
     },
     "metadata": {}
    }
   ]
  },
  {
   "cell_type": "markdown",
   "source": "### Regression",
   "metadata": {
    "formattedRanges": [],
    "cell_id": "36b4b45730a2413989100daac8f9ba9c",
    "tags": [],
    "is_collapsed": false,
    "deepnote_cell_type": "text-cell-h3"
   }
  },
  {
   "cell_type": "code",
   "metadata": {
    "cell_id": "77d41d2d648846b4a47d85036de48852",
    "tags": [],
    "deepnote_to_be_reexecuted": false,
    "source_hash": "1a910995",
    "execution_start": 1654309456427,
    "execution_millis": 30,
    "deepnote_cell_type": "code",
    "deepnote_cell_height": 189
   },
   "source": "m2 = pd.read_csv(\"/work/M2SL.csv\")\nunemp = pd.read_csv(\"/work/UNRATE.csv\")\nfedfunds = pd.read_csv(\"/work/FEDFUNDS.csv\")\n\nfor i in [m2, unemp, fedfunds]:\n    i[\"DATE\"] = pd.to_datetime(i[\"DATE\"], format=\"%Y-%m-%d\")\n    i = i.rename(columns={\"DATE\":\"Date\"})",
   "execution_count": null,
   "outputs": []
  },
  {
   "cell_type": "code",
   "metadata": {
    "cell_id": "8f836ae982fb4defba5539283ecfe155",
    "tags": [],
    "deepnote_to_be_reexecuted": false,
    "source_hash": "79ec60a4",
    "execution_start": 1654309459991,
    "execution_millis": 3,
    "deepnote_cell_type": "code",
    "deepnote_cell_height": 117
   },
   "source": "m2 = m2.rename(columns={\"DATE\":\"Date\"})\nunemp = unemp.rename(columns={\"DATE\":\"Date\"})\nfedfunds = fedfunds.rename(columns={\"DATE\":\"Date\"})",
   "execution_count": null,
   "outputs": []
  },
  {
   "cell_type": "code",
   "metadata": {
    "cell_id": "162a183554214c7c99624172fce63767",
    "tags": [],
    "deepnote_to_be_reexecuted": false,
    "source_hash": "fbccbd29",
    "execution_start": 1654309585655,
    "execution_millis": 44,
    "deepnote_cell_type": "code",
    "deepnote_cell_height": 467
   },
   "source": "merge1 = pd.merge(inflation, m2, on=\"Date\")\nmerge2 = pd.merge(merge1, unemp, on=\"Date\")\nreg = pd.merge(merge2, fedfunds, on=\"Date\")\n\nreg.head()",
   "execution_count": null,
   "outputs": [
    {
     "output_type": "execute_result",
     "execution_count": 6,
     "data": {
      "application/vnd.deepnote.dataframe.v3+json": {
       "column_count": 5,
       "row_count": 5,
       "columns": [
        {
         "name": "Date",
         "dtype": "datetime64[ns]",
         "stats": {
          "unique_count": 5,
          "nan_count": 0,
          "min": "2000-01-01 00:00:00",
          "max": "2000-05-01 00:00:00",
          "histogram": [
           {
            "bin_start": 946684800000000000,
            "bin_end": 947730240000000000,
            "count": 1
           },
           {
            "bin_start": 947730240000000000,
            "bin_end": 948775680000000000,
            "count": 0
           },
           {
            "bin_start": 948775680000000000,
            "bin_end": 949821120000000000,
            "count": 1
           },
           {
            "bin_start": 949821120000000000,
            "bin_end": 950866560000000000,
            "count": 0
           },
           {
            "bin_start": 950866560000000000,
            "bin_end": 951912000000000000,
            "count": 1
           },
           {
            "bin_start": 951912000000000000,
            "bin_end": 952957440000000000,
            "count": 0
           },
           {
            "bin_start": 952957440000000000,
            "bin_end": 954002880000000000,
            "count": 0
           },
           {
            "bin_start": 954002880000000000,
            "bin_end": 955048320000000000,
            "count": 1
           },
           {
            "bin_start": 955048320000000000,
            "bin_end": 956093760000000000,
            "count": 0
           },
           {
            "bin_start": 956093760000000000,
            "bin_end": 957139200000000000,
            "count": 1
           }
          ]
         }
        },
        {
         "name": "Rate",
         "dtype": "float64",
         "stats": {
          "unique_count": 4,
          "nan_count": 0,
          "min": "2.7",
          "max": "3.8",
          "histogram": [
           {
            "bin_start": 2.7,
            "bin_end": 2.81,
            "count": 1
           },
           {
            "bin_start": 2.81,
            "bin_end": 2.92,
            "count": 0
           },
           {
            "bin_start": 2.92,
            "bin_end": 3.0300000000000002,
            "count": 0
           },
           {
            "bin_start": 3.0300000000000002,
            "bin_end": 3.14,
            "count": 1
           },
           {
            "bin_start": 3.14,
            "bin_end": 3.25,
            "count": 2
           },
           {
            "bin_start": 3.25,
            "bin_end": 3.36,
            "count": 0
           },
           {
            "bin_start": 3.36,
            "bin_end": 3.4699999999999998,
            "count": 0
           },
           {
            "bin_start": 3.4699999999999998,
            "bin_end": 3.58,
            "count": 0
           },
           {
            "bin_start": 3.58,
            "bin_end": 3.69,
            "count": 0
           },
           {
            "bin_start": 3.69,
            "bin_end": 3.8,
            "count": 1
           }
          ]
         }
        },
        {
         "name": "M2SL",
         "dtype": "float64",
         "stats": {
          "unique_count": 5,
          "nan_count": 0,
          "min": "4666.2",
          "max": "4766.1",
          "histogram": [
           {
            "bin_start": 4666.2,
            "bin_end": 4676.19,
            "count": 1
           },
           {
            "bin_start": 4676.19,
            "bin_end": 4686.18,
            "count": 1
           },
           {
            "bin_start": 4686.18,
            "bin_end": 4696.17,
            "count": 0
           },
           {
            "bin_start": 4696.17,
            "bin_end": 4706.16,
            "count": 0
           },
           {
            "bin_start": 4706.16,
            "bin_end": 4716.15,
            "count": 1
           },
           {
            "bin_start": 4716.15,
            "bin_end": 4726.14,
            "count": 0
           },
           {
            "bin_start": 4726.14,
            "bin_end": 4736.13,
            "count": 0
           },
           {
            "bin_start": 4736.13,
            "bin_end": 4746.12,
            "count": 0
           },
           {
            "bin_start": 4746.12,
            "bin_end": 4756.110000000001,
            "count": 1
           },
           {
            "bin_start": 4756.110000000001,
            "bin_end": 4766.1,
            "count": 1
           }
          ]
         }
        },
        {
         "name": "UNRATE",
         "dtype": "float64",
         "stats": {
          "unique_count": 3,
          "nan_count": 0,
          "min": "3.8",
          "max": "4.1",
          "histogram": [
           {
            "bin_start": 3.8,
            "bin_end": 3.8299999999999996,
            "count": 1
           },
           {
            "bin_start": 3.8299999999999996,
            "bin_end": 3.86,
            "count": 0
           },
           {
            "bin_start": 3.86,
            "bin_end": 3.8899999999999997,
            "count": 0
           },
           {
            "bin_start": 3.8899999999999997,
            "bin_end": 3.92,
            "count": 0
           },
           {
            "bin_start": 3.92,
            "bin_end": 3.9499999999999997,
            "count": 0
           },
           {
            "bin_start": 3.9499999999999997,
            "bin_end": 3.9799999999999995,
            "count": 0
           },
           {
            "bin_start": 3.9799999999999995,
            "bin_end": 4.01,
            "count": 3
           },
           {
            "bin_start": 4.01,
            "bin_end": 4.04,
            "count": 0
           },
           {
            "bin_start": 4.04,
            "bin_end": 4.069999999999999,
            "count": 0
           },
           {
            "bin_start": 4.069999999999999,
            "bin_end": 4.1,
            "count": 1
           }
          ]
         }
        },
        {
         "name": "FEDFUNDS",
         "dtype": "float64",
         "stats": {
          "unique_count": 5,
          "nan_count": 0,
          "min": "5.45",
          "max": "6.27",
          "histogram": [
           {
            "bin_start": 5.45,
            "bin_end": 5.532,
            "count": 1
           },
           {
            "bin_start": 5.532,
            "bin_end": 5.614,
            "count": 0
           },
           {
            "bin_start": 5.614,
            "bin_end": 5.696,
            "count": 0
           },
           {
            "bin_start": 5.696,
            "bin_end": 5.778,
            "count": 1
           },
           {
            "bin_start": 5.778,
            "bin_end": 5.859999999999999,
            "count": 1
           },
           {
            "bin_start": 5.859999999999999,
            "bin_end": 5.942,
            "count": 0
           },
           {
            "bin_start": 5.942,
            "bin_end": 6.024,
            "count": 1
           },
           {
            "bin_start": 6.024,
            "bin_end": 6.106,
            "count": 0
           },
           {
            "bin_start": 6.106,
            "bin_end": 6.188,
            "count": 0
           },
           {
            "bin_start": 6.188,
            "bin_end": 6.27,
            "count": 1
           }
          ]
         }
        },
        {
         "name": "_deepnote_index_column",
         "dtype": "int64"
        }
       ],
       "rows": [
        {
         "Date": "2000-01-01T00:00:00.000000",
         "Rate": 2.7,
         "M2SL": 4666.2,
         "UNRATE": 4,
         "FEDFUNDS": 5.45,
         "_deepnote_index_column": 0
        },
        {
         "Date": "2000-02-01T00:00:00.000000",
         "Rate": 3.2,
         "M2SL": 4679.4,
         "UNRATE": 4.1,
         "FEDFUNDS": 5.73,
         "_deepnote_index_column": 1
        },
        {
         "Date": "2000-03-01T00:00:00.000000",
         "Rate": 3.8,
         "M2SL": 4710.2,
         "UNRATE": 4,
         "FEDFUNDS": 5.85,
         "_deepnote_index_column": 2
        },
        {
         "Date": "2000-04-01T00:00:00.000000",
         "Rate": 3.1,
         "M2SL": 4766.1,
         "UNRATE": 3.8,
         "FEDFUNDS": 6.02,
         "_deepnote_index_column": 3
        },
        {
         "Date": "2000-05-01T00:00:00.000000",
         "Rate": 3.2,
         "M2SL": 4753.9,
         "UNRATE": 4,
         "FEDFUNDS": 6.27,
         "_deepnote_index_column": 4
        }
       ]
      },
      "text/plain": "        Date  Rate    M2SL  UNRATE  FEDFUNDS\n0 2000-01-01   2.7  4666.2     4.0      5.45\n1 2000-02-01   3.2  4679.4     4.1      5.73\n2 2000-03-01   3.8  4710.2     4.0      5.85\n3 2000-04-01   3.1  4766.1     3.8      6.02\n4 2000-05-01   3.2  4753.9     4.0      6.27",
      "text/html": "<div>\n<style scoped>\n    .dataframe tbody tr th:only-of-type {\n        vertical-align: middle;\n    }\n\n    .dataframe tbody tr th {\n        vertical-align: top;\n    }\n\n    .dataframe thead th {\n        text-align: right;\n    }\n</style>\n<table border=\"1\" class=\"dataframe\">\n  <thead>\n    <tr style=\"text-align: right;\">\n      <th></th>\n      <th>Date</th>\n      <th>Rate</th>\n      <th>M2SL</th>\n      <th>UNRATE</th>\n      <th>FEDFUNDS</th>\n    </tr>\n  </thead>\n  <tbody>\n    <tr>\n      <th>0</th>\n      <td>2000-01-01</td>\n      <td>2.7</td>\n      <td>4666.2</td>\n      <td>4.0</td>\n      <td>5.45</td>\n    </tr>\n    <tr>\n      <th>1</th>\n      <td>2000-02-01</td>\n      <td>3.2</td>\n      <td>4679.4</td>\n      <td>4.1</td>\n      <td>5.73</td>\n    </tr>\n    <tr>\n      <th>2</th>\n      <td>2000-03-01</td>\n      <td>3.8</td>\n      <td>4710.2</td>\n      <td>4.0</td>\n      <td>5.85</td>\n    </tr>\n    <tr>\n      <th>3</th>\n      <td>2000-04-01</td>\n      <td>3.1</td>\n      <td>4766.1</td>\n      <td>3.8</td>\n      <td>6.02</td>\n    </tr>\n    <tr>\n      <th>4</th>\n      <td>2000-05-01</td>\n      <td>3.2</td>\n      <td>4753.9</td>\n      <td>4.0</td>\n      <td>6.27</td>\n    </tr>\n  </tbody>\n</table>\n</div>"
     },
     "metadata": {}
    }
   ]
  },
  {
   "cell_type": "code",
   "metadata": {
    "cell_id": "60e7517e4b604d8f97b857dc972d4259",
    "tags": [],
    "deepnote_to_be_reexecuted": false,
    "source_hash": "607c0fef",
    "execution_start": 1654309652480,
    "deepnote_cell_type": "code",
    "deepnote_cell_height": 600
   },
   "source": "reg[[\"Date\", \"Rate\", \"FEDFUNDS\"]]",
   "execution_count": null,
   "outputs": [
    {
     "output_type": "execute_result",
     "execution_count": 7,
     "data": {
      "application/vnd.deepnote.dataframe.v3+json": {
       "column_count": 3,
       "row_count": 264,
       "columns": [
        {
         "name": "Date",
         "dtype": "datetime64[ns]",
         "stats": {
          "unique_count": 264,
          "nan_count": 0,
          "min": "2000-01-01 00:00:00",
          "max": "2021-12-01 00:00:00",
          "histogram": [
           {
            "bin_start": 946684800000000000,
            "bin_end": 1015848000000000000,
            "count": 27
           },
           {
            "bin_start": 1015848000000000000,
            "bin_end": 1085011200000000000,
            "count": 26
           },
           {
            "bin_start": 1085011200000000000,
            "bin_end": 1154174400000000000,
            "count": 26
           },
           {
            "bin_start": 1154174400000000000,
            "bin_end": 1223337600000000000,
            "count": 27
           },
           {
            "bin_start": 1223337600000000000,
            "bin_end": 1292500800000000000,
            "count": 26
           },
           {
            "bin_start": 1292500800000000000,
            "bin_end": 1361664000000000000,
            "count": 26
           },
           {
            "bin_start": 1361664000000000000,
            "bin_end": 1430827200000000000,
            "count": 27
           },
           {
            "bin_start": 1430827200000000000,
            "bin_end": 1499990400000000000,
            "count": 26
           },
           {
            "bin_start": 1499990400000000000,
            "bin_end": 1569153600000000000,
            "count": 26
           },
           {
            "bin_start": 1569153600000000000,
            "bin_end": 1638316800000000000,
            "count": 27
           }
          ]
         }
        },
        {
         "name": "Rate",
         "dtype": "float64",
         "stats": {
          "unique_count": 60,
          "nan_count": 0,
          "min": "-2.1",
          "max": "7.0",
          "histogram": [
           {
            "bin_start": -2.1,
            "bin_end": -1.1900000000000002,
            "count": 5
           },
           {
            "bin_start": -1.1900000000000002,
            "bin_end": -0.28000000000000025,
            "count": 2
           },
           {
            "bin_start": -0.28000000000000025,
            "bin_end": 0.6299999999999994,
            "count": 18
           },
           {
            "bin_start": 0.6299999999999994,
            "bin_end": 1.5399999999999996,
            "count": 48
           },
           {
            "bin_start": 1.5399999999999996,
            "bin_end": 2.4499999999999997,
            "count": 86
           },
           {
            "bin_start": 2.4499999999999997,
            "bin_end": 3.359999999999999,
            "count": 50
           },
           {
            "bin_start": 3.359999999999999,
            "bin_end": 4.27,
            "count": 38
           },
           {
            "bin_start": 4.27,
            "bin_end": 5.18,
            "count": 8
           },
           {
            "bin_start": 5.18,
            "bin_end": 6.09,
            "count": 6
           },
           {
            "bin_start": 6.09,
            "bin_end": 7,
            "count": 3
           }
          ]
         }
        },
        {
         "name": "FEDFUNDS",
         "dtype": "float64",
         "stats": {
          "unique_count": 128,
          "nan_count": 0,
          "min": "0.05",
          "max": "6.54",
          "histogram": [
           {
            "bin_start": 0.05,
            "bin_end": 0.6990000000000001,
            "count": 122
           },
           {
            "bin_start": 0.6990000000000001,
            "bin_end": 1.348,
            "count": 32
           },
           {
            "bin_start": 1.348,
            "bin_end": 1.997,
            "count": 31
           },
           {
            "bin_start": 1.997,
            "bin_end": 2.646,
            "count": 23
           },
           {
            "bin_start": 2.646,
            "bin_end": 3.295,
            "count": 6
           },
           {
            "bin_start": 3.295,
            "bin_end": 3.944,
            "count": 6
           },
           {
            "bin_start": 3.944,
            "bin_end": 4.593,
            "count": 9
           },
           {
            "bin_start": 4.593,
            "bin_end": 5.242,
            "count": 9
           },
           {
            "bin_start": 5.242,
            "bin_end": 5.891,
            "count": 16
           },
           {
            "bin_start": 5.891,
            "bin_end": 6.54,
            "count": 10
           }
          ]
         }
        },
        {
         "name": "_deepnote_index_column",
         "dtype": "int64"
        }
       ],
       "rows": [
        {
         "Date": "2000-01-01T00:00:00.000000",
         "Rate": 2.7,
         "FEDFUNDS": 5.45,
         "_deepnote_index_column": 0
        },
        {
         "Date": "2000-02-01T00:00:00.000000",
         "Rate": 3.2,
         "FEDFUNDS": 5.73,
         "_deepnote_index_column": 1
        },
        {
         "Date": "2000-03-01T00:00:00.000000",
         "Rate": 3.8,
         "FEDFUNDS": 5.85,
         "_deepnote_index_column": 2
        },
        {
         "Date": "2000-04-01T00:00:00.000000",
         "Rate": 3.1,
         "FEDFUNDS": 6.02,
         "_deepnote_index_column": 3
        },
        {
         "Date": "2000-05-01T00:00:00.000000",
         "Rate": 3.2,
         "FEDFUNDS": 6.27,
         "_deepnote_index_column": 4
        },
        {
         "Date": "2000-06-01T00:00:00.000000",
         "Rate": 3.7,
         "FEDFUNDS": 6.53,
         "_deepnote_index_column": 5
        },
        {
         "Date": "2000-07-01T00:00:00.000000",
         "Rate": 3.7,
         "FEDFUNDS": 6.54,
         "_deepnote_index_column": 6
        },
        {
         "Date": "2000-08-01T00:00:00.000000",
         "Rate": 3.4,
         "FEDFUNDS": 6.5,
         "_deepnote_index_column": 7
        },
        {
         "Date": "2000-09-01T00:00:00.000000",
         "Rate": 3.5,
         "FEDFUNDS": 6.52,
         "_deepnote_index_column": 8
        },
        {
         "Date": "2000-10-01T00:00:00.000000",
         "Rate": 3.4,
         "FEDFUNDS": 6.51,
         "_deepnote_index_column": 9
        }
       ]
      },
      "text/plain": "          Date  Rate  FEDFUNDS\n0   2000-01-01   2.7      5.45\n1   2000-02-01   3.2      5.73\n2   2000-03-01   3.8      5.85\n3   2000-04-01   3.1      6.02\n4   2000-05-01   3.2      6.27\n..         ...   ...       ...\n259 2021-08-01   0.2      0.09\n260 2021-09-01   0.0      0.08\n261 2021-10-01   0.2      0.08\n262 2021-11-01   0.5      0.08\n263 2021-12-01   0.7      0.08\n\n[264 rows x 3 columns]",
      "text/html": "<div>\n<style scoped>\n    .dataframe tbody tr th:only-of-type {\n        vertical-align: middle;\n    }\n\n    .dataframe tbody tr th {\n        vertical-align: top;\n    }\n\n    .dataframe thead th {\n        text-align: right;\n    }\n</style>\n<table border=\"1\" class=\"dataframe\">\n  <thead>\n    <tr style=\"text-align: right;\">\n      <th></th>\n      <th>Date</th>\n      <th>Rate</th>\n      <th>FEDFUNDS</th>\n    </tr>\n  </thead>\n  <tbody>\n    <tr>\n      <th>0</th>\n      <td>2000-01-01</td>\n      <td>2.7</td>\n      <td>5.45</td>\n    </tr>\n    <tr>\n      <th>1</th>\n      <td>2000-02-01</td>\n      <td>3.2</td>\n      <td>5.73</td>\n    </tr>\n    <tr>\n      <th>2</th>\n      <td>2000-03-01</td>\n      <td>3.8</td>\n      <td>5.85</td>\n    </tr>\n    <tr>\n      <th>3</th>\n      <td>2000-04-01</td>\n      <td>3.1</td>\n      <td>6.02</td>\n    </tr>\n    <tr>\n      <th>4</th>\n      <td>2000-05-01</td>\n      <td>3.2</td>\n      <td>6.27</td>\n    </tr>\n    <tr>\n      <th>...</th>\n      <td>...</td>\n      <td>...</td>\n      <td>...</td>\n    </tr>\n    <tr>\n      <th>259</th>\n      <td>2021-08-01</td>\n      <td>0.2</td>\n      <td>0.09</td>\n    </tr>\n    <tr>\n      <th>260</th>\n      <td>2021-09-01</td>\n      <td>0.0</td>\n      <td>0.08</td>\n    </tr>\n    <tr>\n      <th>261</th>\n      <td>2021-10-01</td>\n      <td>0.2</td>\n      <td>0.08</td>\n    </tr>\n    <tr>\n      <th>262</th>\n      <td>2021-11-01</td>\n      <td>0.5</td>\n      <td>0.08</td>\n    </tr>\n    <tr>\n      <th>263</th>\n      <td>2021-12-01</td>\n      <td>0.7</td>\n      <td>0.08</td>\n    </tr>\n  </tbody>\n</table>\n<p>264 rows × 3 columns</p>\n</div>"
     },
     "metadata": {}
    }
   ]
  },
  {
   "cell_type": "code",
   "metadata": {
    "cell_id": "3ebfbdea0d884f0fa77de626a1eee47b",
    "tags": [],
    "deepnote_to_be_reexecuted": false,
    "source_hash": "c48c39c3",
    "execution_start": 1648962820858,
    "execution_millis": 48,
    "owner_user_id": "671e9ada-cd29-4ed1-a0ca-1d2e48db7c60",
    "deepnote_cell_type": "code",
    "deepnote_cell_height": 354
   },
   "source": "reg.corr()",
   "execution_count": null,
   "outputs": [
    {
     "output_type": "execute_result",
     "execution_count": 24,
     "data": {
      "application/vnd.deepnote.dataframe.v3+json": {
       "column_count": 4,
       "row_count": 4,
       "columns": [
        {
         "name": "Rate",
         "dtype": "float64",
         "stats": {
          "unique_count": 4,
          "nan_count": 0,
          "min": "-0.36245325800392386",
          "max": "1.0",
          "histogram": [
           {
            "bin_start": -0.36245325800392386,
            "bin_end": -0.22620793220353147,
            "count": 2
           },
           {
            "bin_start": -0.22620793220353147,
            "bin_end": -0.08996260640313908,
            "count": 0
           },
           {
            "bin_start": -0.08996260640313908,
            "bin_end": 0.046282719397253314,
            "count": 0
           },
           {
            "bin_start": 0.046282719397253314,
            "bin_end": 0.1825280451976457,
            "count": 0
           },
           {
            "bin_start": 0.1825280451976457,
            "bin_end": 0.3187733709980381,
            "count": 0
           },
           {
            "bin_start": 0.3187733709980381,
            "bin_end": 0.4550186967984305,
            "count": 1
           },
           {
            "bin_start": 0.4550186967984305,
            "bin_end": 0.5912640225988228,
            "count": 0
           },
           {
            "bin_start": 0.5912640225988228,
            "bin_end": 0.7275093483992152,
            "count": 0
           },
           {
            "bin_start": 0.7275093483992152,
            "bin_end": 0.8637546741996076,
            "count": 0
           },
           {
            "bin_start": 0.8637546741996076,
            "bin_end": 1,
            "count": 1
           }
          ]
         }
        },
        {
         "name": "M2SL",
         "dtype": "float64",
         "stats": {
          "unique_count": 4,
          "nan_count": 0,
          "min": "-0.5104418118823936",
          "max": "1.0",
          "histogram": [
           {
            "bin_start": -0.5104418118823936,
            "bin_end": -0.3593976306941542,
            "count": 2
           },
           {
            "bin_start": -0.3593976306941542,
            "bin_end": -0.2083534495059149,
            "count": 0
           },
           {
            "bin_start": -0.2083534495059149,
            "bin_end": -0.05730926831767558,
            "count": 0
           },
           {
            "bin_start": -0.05730926831767558,
            "bin_end": 0.09373491287056379,
            "count": 1
           },
           {
            "bin_start": 0.09373491287056379,
            "bin_end": 0.24477909405880316,
            "count": 0
           },
           {
            "bin_start": 0.24477909405880316,
            "bin_end": 0.3958232752470424,
            "count": 0
           },
           {
            "bin_start": 0.3958232752470424,
            "bin_end": 0.5468674564352819,
            "count": 0
           },
           {
            "bin_start": 0.5468674564352819,
            "bin_end": 0.6979116376235212,
            "count": 0
           },
           {
            "bin_start": 0.6979116376235212,
            "bin_end": 0.8489558188117604,
            "count": 0
           },
           {
            "bin_start": 0.8489558188117604,
            "bin_end": 1,
            "count": 1
           }
          ]
         }
        },
        {
         "name": "UNRATE",
         "dtype": "float64",
         "stats": {
          "unique_count": 4,
          "nan_count": 0,
          "min": "-0.5667374391837329",
          "max": "1.0",
          "histogram": [
           {
            "bin_start": -0.5667374391837329,
            "bin_end": -0.4100636952653596,
            "count": 1
           },
           {
            "bin_start": -0.4100636952653596,
            "bin_end": -0.25338995134698633,
            "count": 1
           },
           {
            "bin_start": -0.25338995134698633,
            "bin_end": -0.09671620742861309,
            "count": 0
           },
           {
            "bin_start": -0.09671620742861309,
            "bin_end": 0.05995753648976021,
            "count": 1
           },
           {
            "bin_start": 0.05995753648976021,
            "bin_end": 0.2166312804081335,
            "count": 0
           },
           {
            "bin_start": 0.2166312804081335,
            "bin_end": 0.3733050243265067,
            "count": 0
           },
           {
            "bin_start": 0.3733050243265067,
            "bin_end": 0.5299787682448801,
            "count": 0
           },
           {
            "bin_start": 0.5299787682448801,
            "bin_end": 0.6866525121632533,
            "count": 0
           },
           {
            "bin_start": 0.6866525121632533,
            "bin_end": 0.8433262560816265,
            "count": 0
           },
           {
            "bin_start": 0.8433262560816265,
            "bin_end": 1,
            "count": 1
           }
          ]
         }
        },
        {
         "name": "FEDFUNDS",
         "dtype": "float64",
         "stats": {
          "unique_count": 4,
          "nan_count": 0,
          "min": "-0.5667374391837329",
          "max": "1.0",
          "histogram": [
           {
            "bin_start": -0.5667374391837329,
            "bin_end": -0.4100636952653596,
            "count": 2
           },
           {
            "bin_start": -0.4100636952653596,
            "bin_end": -0.25338995134698633,
            "count": 0
           },
           {
            "bin_start": -0.25338995134698633,
            "bin_end": -0.09671620742861309,
            "count": 0
           },
           {
            "bin_start": -0.09671620742861309,
            "bin_end": 0.05995753648976021,
            "count": 0
           },
           {
            "bin_start": 0.05995753648976021,
            "bin_end": 0.2166312804081335,
            "count": 0
           },
           {
            "bin_start": 0.2166312804081335,
            "bin_end": 0.3733050243265067,
            "count": 0
           },
           {
            "bin_start": 0.3733050243265067,
            "bin_end": 0.5299787682448801,
            "count": 1
           },
           {
            "bin_start": 0.5299787682448801,
            "bin_end": 0.6866525121632533,
            "count": 0
           },
           {
            "bin_start": 0.6866525121632533,
            "bin_end": 0.8433262560816265,
            "count": 0
           },
           {
            "bin_start": 0.8433262560816265,
            "bin_end": 1,
            "count": 1
           }
          ]
         }
        },
        {
         "name": "_deepnote_index_column",
         "dtype": "object"
        }
       ],
       "rows": [
        {
         "Rate": 1,
         "M2SL": -0.36245325800392386,
         "UNRATE": -0.311763417988477,
         "FEDFUNDS": 0.4165922572091772,
         "_deepnote_index_column": "Rate"
        },
        {
         "Rate": -0.36245325800392386,
         "M2SL": 1,
         "UNRATE": -0.0006064047948393918,
         "FEDFUNDS": -0.5104418118823936,
         "_deepnote_index_column": "M2SL"
        },
        {
         "Rate": -0.311763417988477,
         "M2SL": -0.0006064047948393918,
         "UNRATE": 1,
         "FEDFUNDS": -0.5667374391837329,
         "_deepnote_index_column": "UNRATE"
        },
        {
         "Rate": 0.4165922572091772,
         "M2SL": -0.5104418118823936,
         "UNRATE": -0.5667374391837329,
         "FEDFUNDS": 1,
         "_deepnote_index_column": "FEDFUNDS"
        }
       ]
      },
      "text/plain": "              Rate      M2SL    UNRATE  FEDFUNDS\nRate      1.000000 -0.362453 -0.311763  0.416592\nM2SL     -0.362453  1.000000 -0.000606 -0.510442\nUNRATE   -0.311763 -0.000606  1.000000 -0.566737\nFEDFUNDS  0.416592 -0.510442 -0.566737  1.000000",
      "text/html": "<div>\n<style scoped>\n    .dataframe tbody tr th:only-of-type {\n        vertical-align: middle;\n    }\n\n    .dataframe tbody tr th {\n        vertical-align: top;\n    }\n\n    .dataframe thead th {\n        text-align: right;\n    }\n</style>\n<table border=\"1\" class=\"dataframe\">\n  <thead>\n    <tr style=\"text-align: right;\">\n      <th></th>\n      <th>Rate</th>\n      <th>M2SL</th>\n      <th>UNRATE</th>\n      <th>FEDFUNDS</th>\n    </tr>\n  </thead>\n  <tbody>\n    <tr>\n      <th>Rate</th>\n      <td>1.000000</td>\n      <td>-0.362453</td>\n      <td>-0.311763</td>\n      <td>0.416592</td>\n    </tr>\n    <tr>\n      <th>M2SL</th>\n      <td>-0.362453</td>\n      <td>1.000000</td>\n      <td>-0.000606</td>\n      <td>-0.510442</td>\n    </tr>\n    <tr>\n      <th>UNRATE</th>\n      <td>-0.311763</td>\n      <td>-0.000606</td>\n      <td>1.000000</td>\n      <td>-0.566737</td>\n    </tr>\n    <tr>\n      <th>FEDFUNDS</th>\n      <td>0.416592</td>\n      <td>-0.510442</td>\n      <td>-0.566737</td>\n      <td>1.000000</td>\n    </tr>\n  </tbody>\n</table>\n</div>"
     },
     "metadata": {}
    }
   ]
  },
  {
   "cell_type": "code",
   "metadata": {
    "cell_id": "40554461ba324146a135366fbb0d6174",
    "tags": [],
    "deepnote_to_be_reexecuted": false,
    "source_hash": "7618bb5f",
    "execution_start": 1648965881759,
    "execution_millis": 706,
    "deepnote_cell_type": "code",
    "deepnote_cell_height": 553.5625,
    "deepnote_output_heights": [
     null,
     21.1875,
     280
    ]
   },
   "source": "sns.regplot(reg[\"M2SL\"], reg[\"Rate\"])\nplt.xlabel(\"M2 Money Supply\")\nplt.ylabel(\"Inflation Rate\")\nplt.title(\"Interest Rate vs. Money Supply\")",
   "execution_count": null,
   "outputs": [
    {
     "name": "stderr",
     "text": "/shared-libs/python3.7/py/lib/python3.7/site-packages/seaborn/_decorators.py:43: FutureWarning: Pass the following variables as keyword args: x, y. From version 0.12, the only valid positional argument will be `data`, and passing other arguments without an explicit keyword will result in an error or misinterpretation.\n  FutureWarning\n",
     "output_type": "stream"
    },
    {
     "output_type": "execute_result",
     "execution_count": 69,
     "data": {
      "text/plain": "Text(0.5, 1.0, 'Interest Rate vs. Money Supply')"
     },
     "metadata": {}
    },
    {
     "data": {
      "text/plain": "<Figure size 432x288 with 1 Axes>",
      "image/png": "[encoded data removed]"
     },
     "metadata": {
      "needs_background": "light",
      "image/png": {
       "width": 384,
       "height": 278
      }
     },
     "output_type": "display_data"
    }
   ]
  },
  {
   "cell_type": "code",
   "metadata": {
    "cell_id": "5042523b89974692b67c23cc5006b11c",
    "tags": [],
    "deepnote_to_be_reexecuted": false,
    "source_hash": "3d18a869",
    "execution_start": 1648965861423,
    "execution_millis": 703,
    "deepnote_cell_type": "code",
    "deepnote_cell_height": 553.5625,
    "deepnote_output_heights": [
     null,
     21.1875,
     280
    ]
   },
   "source": "sns.regplot(reg[\"UNRATE\"], reg[\"Rate\"])\nplt.xlabel(\"Unemployment Rate\")\nplt.ylabel(\"Inflation Rate\")\nplt.title(\"Inflation Rate vs. Unemployment Rate\")",
   "execution_count": null,
   "outputs": [
    {
     "name": "stderr",
     "text": "/shared-libs/python3.7/py/lib/python3.7/site-packages/seaborn/_decorators.py:43: FutureWarning: Pass the following variables as keyword args: x, y. From version 0.12, the only valid positional argument will be `data`, and passing other arguments without an explicit keyword will result in an error or misinterpretation.\n  FutureWarning\n",
     "output_type": "stream"
    },
    {
     "output_type": "execute_result",
     "execution_count": 68,
     "data": {
      "text/plain": "Text(0.5, 1.0, 'Inflation Rate vs. Unemployment Rate')"
     },
     "metadata": {}
    },
    {
     "data": {
      "text/plain": "<Figure size 432x288 with 1 Axes>",
      "image/png": "[encoded data removed]"
     },
     "metadata": {
      "needs_background": "light",
      "image/png": {
       "width": 384,
       "height": 278
      }
     },
     "output_type": "display_data"
    }
   ]
  },
  {
   "cell_type": "code",
   "metadata": {
    "cell_id": "7fc13433c6c14936bac076dcacce03de",
    "tags": [],
    "deepnote_to_be_reexecuted": false,
    "source_hash": "72a073d4",
    "execution_start": 1648965921623,
    "execution_millis": 660,
    "deepnote_cell_type": "code",
    "deepnote_cell_height": 553.5625,
    "deepnote_output_heights": [
     null,
     21.1875,
     280
    ]
   },
   "source": "sns.regplot(reg[\"FEDFUNDS\"], reg[\"Rate\"])\nplt.xlabel(\"Federal Funds Rate\")\nplt.ylabel(\"Inflation Rate\")\nplt.title(\"Inflation Rate vs. Federal Funds Rate\")",
   "execution_count": null,
   "outputs": [
    {
     "name": "stderr",
     "text": "/shared-libs/python3.7/py/lib/python3.7/site-packages/seaborn/_decorators.py:43: FutureWarning: Pass the following variables as keyword args: x, y. From version 0.12, the only valid positional argument will be `data`, and passing other arguments without an explicit keyword will result in an error or misinterpretation.\n  FutureWarning\n",
     "output_type": "stream"
    },
    {
     "output_type": "execute_result",
     "execution_count": 70,
     "data": {
      "text/plain": "Text(0.5, 1.0, 'Inflation Rate vs. Federal Funds Rate')"
     },
     "metadata": {}
    },
    {
     "data": {
      "text/plain": "<Figure size 432x288 with 1 Axes>",
      "image/png": "[encoded data removed]"
     },
     "metadata": {
      "needs_background": "light",
      "image/png": {
       "width": 384,
       "height": 278
      }
     },
     "output_type": "display_data"
    }
   ]
  },
  {
   "cell_type": "code",
   "metadata": {
    "cell_id": "e130ab348c55402fa12ac1eb57e768b3",
    "tags": [],
    "deepnote_to_be_reexecuted": false,
    "source_hash": "5345ec6a",
    "execution_start": 1648962822806,
    "execution_millis": 93,
    "deepnote_cell_type": "code",
    "deepnote_cell_height": 575
   },
   "source": "reg_copy = reg.copy()\nm2_copy = reg[\"M2SL\"][:-1]\nfed_copy = reg[\"FEDFUNDS\"][:-1]\nunemp_copy = reg[\"UNRATE\"][:-1]\nfg = reg[\"Rate\"][1:]\nfg3 = fg.reset_index().drop(\"index\", axis=1)[\"Rate\"]\nfg2 = reg[\"Date\"][1:]\nfg4 = fg2.reset_index().drop(\"index\", axis=1)[\"Date\"]\n\nlag1 = pd.DataFrame(data={\"Date\":fg4, \"Rate\":fg3, \"M2SL\":m2_copy, \"FEDFUNDS\":fed_copy, \"UNRATE\":unemp_copy})\nlag1.head()",
   "execution_count": null,
   "outputs": [
    {
     "output_type": "execute_result",
     "execution_count": 28,
     "data": {
      "application/vnd.deepnote.dataframe.v3+json": {
       "column_count": 5,
       "row_count": 5,
       "columns": [
        {
         "name": "Date",
         "dtype": "datetime64[ns]",
         "stats": {
          "unique_count": 5,
          "nan_count": 0,
          "min": "2000-02-01 00:00:00",
          "max": "2000-06-01 00:00:00",
          "histogram": [
           {
            "bin_start": 949363200000000000,
            "bin_end": 950408640000000000,
            "count": 1
           },
           {
            "bin_start": 950408640000000000,
            "bin_end": 951454080000000000,
            "count": 0
           },
           {
            "bin_start": 951454080000000000,
            "bin_end": 952499520000000000,
            "count": 1
           },
           {
            "bin_start": 952499520000000000,
            "bin_end": 953544960000000000,
            "count": 0
           },
           {
            "bin_start": 953544960000000000,
            "bin_end": 954590400000000000,
            "count": 1
           },
           {
            "bin_start": 954590400000000000,
            "bin_end": 955635840000000000,
            "count": 0
           },
           {
            "bin_start": 955635840000000000,
            "bin_end": 956681280000000000,
            "count": 0
           },
           {
            "bin_start": 956681280000000000,
            "bin_end": 957726720000000000,
            "count": 1
           },
           {
            "bin_start": 957726720000000000,
            "bin_end": 958772160000000000,
            "count": 0
           },
           {
            "bin_start": 958772160000000000,
            "bin_end": 959817600000000000,
            "count": 1
           }
          ]
         }
        },
        {
         "name": "Rate",
         "dtype": "float64",
         "stats": {
          "unique_count": 4,
          "nan_count": 0,
          "min": "3.1",
          "max": "3.8",
          "histogram": [
           {
            "bin_start": 3.1,
            "bin_end": 3.17,
            "count": 1
           },
           {
            "bin_start": 3.17,
            "bin_end": 3.24,
            "count": 2
           },
           {
            "bin_start": 3.24,
            "bin_end": 3.31,
            "count": 0
           },
           {
            "bin_start": 3.31,
            "bin_end": 3.38,
            "count": 0
           },
           {
            "bin_start": 3.38,
            "bin_end": 3.45,
            "count": 0
           },
           {
            "bin_start": 3.45,
            "bin_end": 3.52,
            "count": 0
           },
           {
            "bin_start": 3.52,
            "bin_end": 3.59,
            "count": 0
           },
           {
            "bin_start": 3.59,
            "bin_end": 3.66,
            "count": 0
           },
           {
            "bin_start": 3.66,
            "bin_end": 3.73,
            "count": 1
           },
           {
            "bin_start": 3.73,
            "bin_end": 3.8,
            "count": 1
           }
          ]
         }
        },
        {
         "name": "M2SL",
         "dtype": "float64",
         "stats": {
          "unique_count": 5,
          "nan_count": 0,
          "min": "4666.2",
          "max": "4766.1",
          "histogram": [
           {
            "bin_start": 4666.2,
            "bin_end": 4676.19,
            "count": 1
           },
           {
            "bin_start": 4676.19,
            "bin_end": 4686.18,
            "count": 1
           },
           {
            "bin_start": 4686.18,
            "bin_end": 4696.17,
            "count": 0
           },
           {
            "bin_start": 4696.17,
            "bin_end": 4706.16,
            "count": 0
           },
           {
            "bin_start": 4706.16,
            "bin_end": 4716.15,
            "count": 1
           },
           {
            "bin_start": 4716.15,
            "bin_end": 4726.14,
            "count": 0
           },
           {
            "bin_start": 4726.14,
            "bin_end": 4736.13,
            "count": 0
           },
           {
            "bin_start": 4736.13,
            "bin_end": 4746.12,
            "count": 0
           },
           {
            "bin_start": 4746.12,
            "bin_end": 4756.110000000001,
            "count": 1
           },
           {
            "bin_start": 4756.110000000001,
            "bin_end": 4766.1,
            "count": 1
           }
          ]
         }
        },
        {
         "name": "FEDFUNDS",
         "dtype": "float64",
         "stats": {
          "unique_count": 5,
          "nan_count": 0,
          "min": "5.45",
          "max": "6.27",
          "histogram": [
           {
            "bin_start": 5.45,
            "bin_end": 5.532,
            "count": 1
           },
           {
            "bin_start": 5.532,
            "bin_end": 5.614,
            "count": 0
           },
           {
            "bin_start": 5.614,
            "bin_end": 5.696,
            "count": 0
           },
           {
            "bin_start": 5.696,
            "bin_end": 5.778,
            "count": 1
           },
           {
            "bin_start": 5.778,
            "bin_end": 5.859999999999999,
            "count": 1
           },
           {
            "bin_start": 5.859999999999999,
            "bin_end": 5.942,
            "count": 0
           },
           {
            "bin_start": 5.942,
            "bin_end": 6.024,
            "count": 1
           },
           {
            "bin_start": 6.024,
            "bin_end": 6.106,
            "count": 0
           },
           {
            "bin_start": 6.106,
            "bin_end": 6.188,
            "count": 0
           },
           {
            "bin_start": 6.188,
            "bin_end": 6.27,
            "count": 1
           }
          ]
         }
        },
        {
         "name": "UNRATE",
         "dtype": "float64",
         "stats": {
          "unique_count": 3,
          "nan_count": 0,
          "min": "3.8",
          "max": "4.1",
          "histogram": [
           {
            "bin_start": 3.8,
            "bin_end": 3.8299999999999996,
            "count": 1
           },
           {
            "bin_start": 3.8299999999999996,
            "bin_end": 3.86,
            "count": 0
           },
           {
            "bin_start": 3.86,
            "bin_end": 3.8899999999999997,
            "count": 0
           },
           {
            "bin_start": 3.8899999999999997,
            "bin_end": 3.92,
            "count": 0
           },
           {
            "bin_start": 3.92,
            "bin_end": 3.9499999999999997,
            "count": 0
           },
           {
            "bin_start": 3.9499999999999997,
            "bin_end": 3.9799999999999995,
            "count": 0
           },
           {
            "bin_start": 3.9799999999999995,
            "bin_end": 4.01,
            "count": 3
           },
           {
            "bin_start": 4.01,
            "bin_end": 4.04,
            "count": 0
           },
           {
            "bin_start": 4.04,
            "bin_end": 4.069999999999999,
            "count": 0
           },
           {
            "bin_start": 4.069999999999999,
            "bin_end": 4.1,
            "count": 1
           }
          ]
         }
        },
        {
         "name": "_deepnote_index_column",
         "dtype": "int64"
        }
       ],
       "rows": [
        {
         "Date": "2000-02-01T00:00:00.000000",
         "Rate": 3.2,
         "M2SL": 4666.2,
         "FEDFUNDS": 5.45,
         "UNRATE": 4,
         "_deepnote_index_column": 0
        },
        {
         "Date": "2000-03-01T00:00:00.000000",
         "Rate": 3.8,
         "M2SL": 4679.4,
         "FEDFUNDS": 5.73,
         "UNRATE": 4.1,
         "_deepnote_index_column": 1
        },
        {
         "Date": "2000-04-01T00:00:00.000000",
         "Rate": 3.1,
         "M2SL": 4710.2,
         "FEDFUNDS": 5.85,
         "UNRATE": 4,
         "_deepnote_index_column": 2
        },
        {
         "Date": "2000-05-01T00:00:00.000000",
         "Rate": 3.2,
         "M2SL": 4766.1,
         "FEDFUNDS": 6.02,
         "UNRATE": 3.8,
         "_deepnote_index_column": 3
        },
        {
         "Date": "2000-06-01T00:00:00.000000",
         "Rate": 3.7,
         "M2SL": 4753.9,
         "FEDFUNDS": 6.27,
         "UNRATE": 4,
         "_deepnote_index_column": 4
        }
       ]
      },
      "text/plain": "        Date  Rate    M2SL  FEDFUNDS  UNRATE\n0 2000-02-01   3.2  4666.2      5.45     4.0\n1 2000-03-01   3.8  4679.4      5.73     4.1\n2 2000-04-01   3.1  4710.2      5.85     4.0\n3 2000-05-01   3.2  4766.1      6.02     3.8\n4 2000-06-01   3.7  4753.9      6.27     4.0",
      "text/html": "<div>\n<style scoped>\n    .dataframe tbody tr th:only-of-type {\n        vertical-align: middle;\n    }\n\n    .dataframe tbody tr th {\n        vertical-align: top;\n    }\n\n    .dataframe thead th {\n        text-align: right;\n    }\n</style>\n<table border=\"1\" class=\"dataframe\">\n  <thead>\n    <tr style=\"text-align: right;\">\n      <th></th>\n      <th>Date</th>\n      <th>Rate</th>\n      <th>M2SL</th>\n      <th>FEDFUNDS</th>\n      <th>UNRATE</th>\n    </tr>\n  </thead>\n  <tbody>\n    <tr>\n      <th>0</th>\n      <td>2000-02-01</td>\n      <td>3.2</td>\n      <td>4666.2</td>\n      <td>5.45</td>\n      <td>4.0</td>\n    </tr>\n    <tr>\n      <th>1</th>\n      <td>2000-03-01</td>\n      <td>3.8</td>\n      <td>4679.4</td>\n      <td>5.73</td>\n      <td>4.1</td>\n    </tr>\n    <tr>\n      <th>2</th>\n      <td>2000-04-01</td>\n      <td>3.1</td>\n      <td>4710.2</td>\n      <td>5.85</td>\n      <td>4.0</td>\n    </tr>\n    <tr>\n      <th>3</th>\n      <td>2000-05-01</td>\n      <td>3.2</td>\n      <td>4766.1</td>\n      <td>6.02</td>\n      <td>3.8</td>\n    </tr>\n    <tr>\n      <th>4</th>\n      <td>2000-06-01</td>\n      <td>3.7</td>\n      <td>4753.9</td>\n      <td>6.27</td>\n      <td>4.0</td>\n    </tr>\n  </tbody>\n</table>\n</div>"
     },
     "metadata": {}
    }
   ]
  },
  {
   "cell_type": "code",
   "metadata": {
    "cell_id": "8bf9a627c4d74e288f02ef1ac3748813",
    "tags": [],
    "deepnote_to_be_reexecuted": false,
    "source_hash": "e72beb9d",
    "execution_start": 1648962822942,
    "execution_millis": 7,
    "deepnote_cell_type": "code",
    "deepnote_cell_height": 354
   },
   "source": "lag1.corr()",
   "execution_count": null,
   "outputs": [
    {
     "output_type": "execute_result",
     "execution_count": 29,
     "data": {
      "application/vnd.deepnote.dataframe.v3+json": {
       "column_count": 4,
       "row_count": 4,
       "columns": [
        {
         "name": "Rate",
         "dtype": "float64",
         "stats": {
          "unique_count": 4,
          "nan_count": 0,
          "min": "-0.360929179086719",
          "max": "1.0",
          "histogram": [
           {
            "bin_start": -0.360929179086719,
            "bin_end": -0.22483626117804711,
            "count": 2
           },
           {
            "bin_start": -0.22483626117804711,
            "bin_end": -0.08874334326937522,
            "count": 0
           },
           {
            "bin_start": -0.08874334326937522,
            "bin_end": 0.04734957463929668,
            "count": 0
           },
           {
            "bin_start": 0.04734957463929668,
            "bin_end": 0.18344249254796857,
            "count": 0
           },
           {
            "bin_start": 0.18344249254796857,
            "bin_end": 0.3195354104566404,
            "count": 0
           },
           {
            "bin_start": 0.3195354104566404,
            "bin_end": 0.45562832836531236,
            "count": 1
           },
           {
            "bin_start": 0.45562832836531236,
            "bin_end": 0.5917212462739843,
            "count": 0
           },
           {
            "bin_start": 0.5917212462739843,
            "bin_end": 0.7278141641826561,
            "count": 0
           },
           {
            "bin_start": 0.7278141641826561,
            "bin_end": 0.8639070820913279,
            "count": 0
           },
           {
            "bin_start": 0.8639070820913279,
            "bin_end": 1,
            "count": 1
           }
          ]
         }
        },
        {
         "name": "M2SL",
         "dtype": "float64",
         "stats": {
          "unique_count": 4,
          "nan_count": 0,
          "min": "-0.5098597104950715",
          "max": "1.0",
          "histogram": [
           {
            "bin_start": -0.5098597104950715,
            "bin_end": -0.35887373944556433,
            "count": 2
           },
           {
            "bin_start": -0.35887373944556433,
            "bin_end": -0.20788776839605722,
            "count": 0
           },
           {
            "bin_start": -0.20788776839605722,
            "bin_end": -0.0569017973465501,
            "count": 0
           },
           {
            "bin_start": -0.0569017973465501,
            "bin_end": 0.09408417370295707,
            "count": 1
           },
           {
            "bin_start": 0.09408417370295707,
            "bin_end": 0.24507014475246425,
            "count": 0
           },
           {
            "bin_start": 0.24507014475246425,
            "bin_end": 0.3960561158019713,
            "count": 0
           },
           {
            "bin_start": 0.3960561158019713,
            "bin_end": 0.5470420868514785,
            "count": 0
           },
           {
            "bin_start": 0.5470420868514785,
            "bin_end": 0.6980280579009857,
            "count": 0
           },
           {
            "bin_start": 0.6980280579009857,
            "bin_end": 0.8490140289504928,
            "count": 0
           },
           {
            "bin_start": 0.8490140289504928,
            "bin_end": 1,
            "count": 1
           }
          ]
         }
        },
        {
         "name": "FEDFUNDS",
         "dtype": "float64",
         "stats": {
          "unique_count": 4,
          "nan_count": 0,
          "min": "-0.5720569115312046",
          "max": "1.0",
          "histogram": [
           {
            "bin_start": -0.5720569115312046,
            "bin_end": -0.4148512203780842,
            "count": 2
           },
           {
            "bin_start": -0.4148512203780842,
            "bin_end": -0.2576455292249637,
            "count": 0
           },
           {
            "bin_start": -0.2576455292249637,
            "bin_end": -0.1004398380718432,
            "count": 0
           },
           {
            "bin_start": -0.1004398380718432,
            "bin_end": 0.05676585308127724,
            "count": 0
           },
           {
            "bin_start": 0.05676585308127724,
            "bin_end": 0.21397154423439768,
            "count": 0
           },
           {
            "bin_start": 0.21397154423439768,
            "bin_end": 0.37117723538751823,
            "count": 0
           },
           {
            "bin_start": 0.37117723538751823,
            "bin_end": 0.5283829265406386,
            "count": 1
           },
           {
            "bin_start": 0.5283829265406386,
            "bin_end": 0.6855886176937591,
            "count": 0
           },
           {
            "bin_start": 0.6855886176937591,
            "bin_end": 0.8427943088468797,
            "count": 0
           },
           {
            "bin_start": 0.8427943088468797,
            "bin_end": 1,
            "count": 1
           }
          ]
         }
        },
        {
         "name": "UNRATE",
         "dtype": "float64",
         "stats": {
          "unique_count": 4,
          "nan_count": 0,
          "min": "-0.5720569115312046",
          "max": "1.0",
          "histogram": [
           {
            "bin_start": -0.5720569115312046,
            "bin_end": -0.4148512203780842,
            "count": 1
           },
           {
            "bin_start": -0.4148512203780842,
            "bin_end": -0.2576455292249637,
            "count": 1
           },
           {
            "bin_start": -0.2576455292249637,
            "bin_end": -0.1004398380718432,
            "count": 0
           },
           {
            "bin_start": -0.1004398380718432,
            "bin_end": 0.05676585308127724,
            "count": 1
           },
           {
            "bin_start": 0.05676585308127724,
            "bin_end": 0.21397154423439768,
            "count": 0
           },
           {
            "bin_start": 0.21397154423439768,
            "bin_end": 0.37117723538751823,
            "count": 0
           },
           {
            "bin_start": 0.37117723538751823,
            "bin_end": 0.5283829265406386,
            "count": 0
           },
           {
            "bin_start": 0.5283829265406386,
            "bin_end": 0.6855886176937591,
            "count": 0
           },
           {
            "bin_start": 0.6855886176937591,
            "bin_end": 0.8427943088468797,
            "count": 0
           },
           {
            "bin_start": 0.8427943088468797,
            "bin_end": 1,
            "count": 1
           }
          ]
         }
        },
        {
         "name": "_deepnote_index_column",
         "dtype": "object"
        }
       ],
       "rows": [
        {
         "Rate": 1,
         "M2SL": -0.360929179086719,
         "FEDFUNDS": 0.4145510102325969,
         "UNRATE": -0.30834204186622827,
         "_deepnote_index_column": "Rate"
        },
        {
         "Rate": -0.360929179086719,
         "M2SL": 1,
         "FEDFUNDS": -0.5098597104950715,
         "UNRATE": 0.010760853062659781,
         "_deepnote_index_column": "M2SL"
        },
        {
         "Rate": 0.4145510102325969,
         "M2SL": -0.5098597104950715,
         "FEDFUNDS": 1,
         "UNRATE": -0.5720569115312046,
         "_deepnote_index_column": "FEDFUNDS"
        },
        {
         "Rate": -0.30834204186622827,
         "M2SL": 0.010760853062659781,
         "FEDFUNDS": -0.5720569115312046,
         "UNRATE": 1,
         "_deepnote_index_column": "UNRATE"
        }
       ]
      },
      "text/plain": "              Rate      M2SL  FEDFUNDS    UNRATE\nRate      1.000000 -0.360929  0.414551 -0.308342\nM2SL     -0.360929  1.000000 -0.509860  0.010761\nFEDFUNDS  0.414551 -0.509860  1.000000 -0.572057\nUNRATE   -0.308342  0.010761 -0.572057  1.000000",
      "text/html": "<div>\n<style scoped>\n    .dataframe tbody tr th:only-of-type {\n        vertical-align: middle;\n    }\n\n    .dataframe tbody tr th {\n        vertical-align: top;\n    }\n\n    .dataframe thead th {\n        text-align: right;\n    }\n</style>\n<table border=\"1\" class=\"dataframe\">\n  <thead>\n    <tr style=\"text-align: right;\">\n      <th></th>\n      <th>Rate</th>\n      <th>M2SL</th>\n      <th>FEDFUNDS</th>\n      <th>UNRATE</th>\n    </tr>\n  </thead>\n  <tbody>\n    <tr>\n      <th>Rate</th>\n      <td>1.000000</td>\n      <td>-0.360929</td>\n      <td>0.414551</td>\n      <td>-0.308342</td>\n    </tr>\n    <tr>\n      <th>M2SL</th>\n      <td>-0.360929</td>\n      <td>1.000000</td>\n      <td>-0.509860</td>\n      <td>0.010761</td>\n    </tr>\n    <tr>\n      <th>FEDFUNDS</th>\n      <td>0.414551</td>\n      <td>-0.509860</td>\n      <td>1.000000</td>\n      <td>-0.572057</td>\n    </tr>\n    <tr>\n      <th>UNRATE</th>\n      <td>-0.308342</td>\n      <td>0.010761</td>\n      <td>-0.572057</td>\n      <td>1.000000</td>\n    </tr>\n  </tbody>\n</table>\n</div>"
     },
     "metadata": {}
    }
   ]
  },
  {
   "cell_type": "code",
   "metadata": {
    "cell_id": "1ee6107a9cf24bb5b20e1d4a3802ad3e",
    "tags": [],
    "deepnote_to_be_reexecuted": false,
    "source_hash": "7e263d30",
    "execution_start": 1648962822952,
    "execution_millis": 2,
    "deepnote_cell_type": "code",
    "deepnote_cell_height": 153
   },
   "source": "from sklearn.linear_model import LinearRegression\nlr = LinearRegression()\n\nx = reg[[\"M2SL\", \"FEDFUNDS\", \"UNRATE\"]]\ny = reg[\"Rate\"]",
   "execution_count": null,
   "outputs": []
  },
  {
   "cell_type": "code",
   "metadata": {
    "cell_id": "6777d9c043004ff397ce2c2ccd792c00",
    "tags": [],
    "deepnote_to_be_reexecuted": false,
    "source_hash": "b4f615cc",
    "execution_start": 1648962822960,
    "execution_millis": 54,
    "deepnote_cell_type": "code",
    "deepnote_cell_height": 118.1875,
    "deepnote_output_heights": [
     21.1875
    ]
   },
   "source": "lr.fit(x, y)",
   "execution_count": null,
   "outputs": [
    {
     "output_type": "execute_result",
     "execution_count": 31,
     "data": {
      "text/plain": "LinearRegression()"
     },
     "metadata": {}
    }
   ]
  },
  {
   "cell_type": "code",
   "metadata": {
    "cell_id": "d93a8d88becd40ceb8c0c516cab168d2",
    "tags": [],
    "deepnote_to_be_reexecuted": false,
    "source_hash": "f43e1e43",
    "execution_start": 1648962823013,
    "execution_millis": 116,
    "deepnote_table_state": {
     "pageSize": 10,
     "pageIndex": 24,
     "filters": [],
     "sortBy": []
    },
    "deepnote_table_loading": false,
    "deepnote_cell_type": "code",
    "deepnote_cell_height": 635
   },
   "source": "reg[\"Predictions\"] = lr.predict(x)\nreg",
   "execution_count": null,
   "outputs": [
    {
     "output_type": "execute_result",
     "execution_count": 32,
     "data": {
      "application/vnd.deepnote.dataframe.v3+json": {
       "column_count": 6,
       "row_count": 264,
       "columns": [
        {
         "name": "Date",
         "dtype": "datetime64[ns]",
         "stats": {
          "unique_count": 264,
          "nan_count": 0,
          "min": "2000-01-01 00:00:00",
          "max": "2021-12-01 00:00:00",
          "histogram": [
           {
            "bin_start": 946684800000000000,
            "bin_end": 1015848000000000000,
            "count": 27
           },
           {
            "bin_start": 1015848000000000000,
            "bin_end": 1085011200000000000,
            "count": 26
           },
           {
            "bin_start": 1085011200000000000,
            "bin_end": 1154174400000000000,
            "count": 26
           },
           {
            "bin_start": 1154174400000000000,
            "bin_end": 1223337600000000000,
            "count": 27
           },
           {
            "bin_start": 1223337600000000000,
            "bin_end": 1292500800000000000,
            "count": 26
           },
           {
            "bin_start": 1292500800000000000,
            "bin_end": 1361664000000000000,
            "count": 26
           },
           {
            "bin_start": 1361664000000000000,
            "bin_end": 1430827200000000000,
            "count": 27
           },
           {
            "bin_start": 1430827200000000000,
            "bin_end": 1499990400000000000,
            "count": 26
           },
           {
            "bin_start": 1499990400000000000,
            "bin_end": 1569153600000000000,
            "count": 26
           },
           {
            "bin_start": 1569153600000000000,
            "bin_end": 1638316800000000000,
            "count": 27
           }
          ]
         }
        },
        {
         "name": "Rate",
         "dtype": "float64",
         "stats": {
          "unique_count": 60,
          "nan_count": 0,
          "min": "-2.1",
          "max": "7.0",
          "histogram": [
           {
            "bin_start": -2.1,
            "bin_end": -1.1900000000000002,
            "count": 5
           },
           {
            "bin_start": -1.1900000000000002,
            "bin_end": -0.28000000000000025,
            "count": 2
           },
           {
            "bin_start": -0.28000000000000025,
            "bin_end": 0.6299999999999994,
            "count": 18
           },
           {
            "bin_start": 0.6299999999999994,
            "bin_end": 1.5399999999999996,
            "count": 48
           },
           {
            "bin_start": 1.5399999999999996,
            "bin_end": 2.4499999999999997,
            "count": 86
           },
           {
            "bin_start": 2.4499999999999997,
            "bin_end": 3.359999999999999,
            "count": 50
           },
           {
            "bin_start": 3.359999999999999,
            "bin_end": 4.27,
            "count": 38
           },
           {
            "bin_start": 4.27,
            "bin_end": 5.18,
            "count": 8
           },
           {
            "bin_start": 5.18,
            "bin_end": 6.09,
            "count": 6
           },
           {
            "bin_start": 6.09,
            "bin_end": 7,
            "count": 3
           }
          ]
         }
        },
        {
         "name": "M2SL",
         "dtype": "float64",
         "stats": {
          "unique_count": 264,
          "nan_count": 0,
          "min": "4666.2",
          "max": "21553.1",
          "histogram": [
           {
            "bin_start": 4666.2,
            "bin_end": 6354.889999999999,
            "count": 57
           },
           {
            "bin_start": 6354.889999999999,
            "bin_end": 8043.58,
            "count": 50
           },
           {
            "bin_start": 8043.58,
            "bin_end": 9732.27,
            "count": 38
           },
           {
            "bin_start": 9732.27,
            "bin_end": 11420.96,
            "count": 29
           },
           {
            "bin_start": 11420.96,
            "bin_end": 13109.649999999998,
            "count": 28
           },
           {
            "bin_start": 13109.649999999998,
            "bin_end": 14798.34,
            "count": 32
           },
           {
            "bin_start": 14798.34,
            "bin_end": 16487.03,
            "count": 9
           },
           {
            "bin_start": 16487.03,
            "bin_end": 18175.719999999998,
            "count": 3
           },
           {
            "bin_start": 18175.719999999998,
            "bin_end": 19864.41,
            "count": 8
           },
           {
            "bin_start": 19864.41,
            "bin_end": 21553.1,
            "count": 10
           }
          ]
         }
        },
        {
         "name": "UNRATE",
         "dtype": "float64",
         "stats": {
          "unique_count": 64,
          "nan_count": 0,
          "min": "3.5",
          "max": "14.7",
          "histogram": [
           {
            "bin_start": 3.5,
            "bin_end": 4.62,
            "count": 73
           },
           {
            "bin_start": 4.62,
            "bin_end": 5.74,
            "count": 82
           },
           {
            "bin_start": 5.74,
            "bin_end": 6.859999999999999,
            "count": 42
           },
           {
            "bin_start": 6.859999999999999,
            "bin_end": 7.9799999999999995,
            "count": 18
           },
           {
            "bin_start": 7.9799999999999995,
            "bin_end": 9.1,
            "count": 22
           },
           {
            "bin_start": 9.1,
            "bin_end": 10.219999999999999,
            "count": 24
           },
           {
            "bin_start": 10.219999999999999,
            "bin_end": 11.34,
            "count": 1
           },
           {
            "bin_start": 11.34,
            "bin_end": 12.459999999999999,
            "count": 0
           },
           {
            "bin_start": 12.459999999999999,
            "bin_end": 13.579999999999998,
            "count": 1
           },
           {
            "bin_start": 13.579999999999998,
            "bin_end": 14.7,
            "count": 1
           }
          ]
         }
        },
        {
         "name": "FEDFUNDS",
         "dtype": "float64",
         "stats": {
          "unique_count": 128,
          "nan_count": 0,
          "min": "0.05",
          "max": "6.54",
          "histogram": [
           {
            "bin_start": 0.05,
            "bin_end": 0.6990000000000001,
            "count": 122
           },
           {
            "bin_start": 0.6990000000000001,
            "bin_end": 1.348,
            "count": 32
           },
           {
            "bin_start": 1.348,
            "bin_end": 1.997,
            "count": 31
           },
           {
            "bin_start": 1.997,
            "bin_end": 2.646,
            "count": 23
           },
           {
            "bin_start": 2.646,
            "bin_end": 3.295,
            "count": 6
           },
           {
            "bin_start": 3.295,
            "bin_end": 3.944,
            "count": 6
           },
           {
            "bin_start": 3.944,
            "bin_end": 4.593,
            "count": 9
           },
           {
            "bin_start": 4.593,
            "bin_end": 5.242,
            "count": 9
           },
           {
            "bin_start": 5.242,
            "bin_end": 5.891,
            "count": 16
           },
           {
            "bin_start": 5.891,
            "bin_end": 6.54,
            "count": 10
           }
          ]
         }
        },
        {
         "name": "Predictions",
         "dtype": "float64",
         "stats": {
          "unique_count": 264,
          "nan_count": 0,
          "min": "-0.06989772197593691",
          "max": "3.568120043137415",
          "histogram": [
           {
            "bin_start": -0.06989772197593691,
            "bin_end": 0.29390405453539825,
            "count": 2
           },
           {
            "bin_start": 0.29390405453539825,
            "bin_end": 0.6577058310467334,
            "count": 2
           },
           {
            "bin_start": 0.6577058310467334,
            "bin_end": 1.0215076075580685,
            "count": 2
           },
           {
            "bin_start": 1.0215076075580685,
            "bin_end": 1.3853093840694037,
            "count": 15
           },
           {
            "bin_start": 1.3853093840694037,
            "bin_end": 1.749111160580739,
            "count": 42
           },
           {
            "bin_start": 1.749111160580739,
            "bin_end": 2.112912937092074,
            "count": 62
           },
           {
            "bin_start": 2.112912937092074,
            "bin_end": 2.476714713603409,
            "count": 36
           },
           {
            "bin_start": 2.476714713603409,
            "bin_end": 2.8405164901147444,
            "count": 48
           },
           {
            "bin_start": 2.8405164901147444,
            "bin_end": 3.2043182666260797,
            "count": 38
           },
           {
            "bin_start": 3.2043182666260797,
            "bin_end": 3.568120043137415,
            "count": 17
           }
          ]
         }
        },
        {
         "name": "_deepnote_index_column",
         "dtype": "int64"
        }
       ],
       "rows": [
        {
         "Date": "2020-01-01T00:00:00.000000",
         "Rate": 1.4,
         "M2SL": 15420.3,
         "UNRATE": 3.5,
         "FEDFUNDS": 1.55,
         "Predictions": 2.122781379364114,
         "_deepnote_index_column": 240
        },
        {
         "Date": "2020-02-01T00:00:00.000000",
         "Rate": 1,
         "M2SL": 15477.6,
         "UNRATE": 3.5,
         "FEDFUNDS": 1.58,
         "Predictions": 2.120033731115578,
         "_deepnote_index_column": 241
        },
        {
         "Date": "2020-03-01T00:00:00.000000",
         "Rate": 0.9,
         "M2SL": 16008,
         "UNRATE": 4.4,
         "FEDFUNDS": 0.65,
         "Predictions": 1.826880927491576,
         "_deepnote_index_column": 242
        },
        {
         "Date": "2020-04-01T00:00:00.000000",
         "Rate": 1.1,
         "M2SL": 17022.7,
         "UNRATE": 14.7,
         "FEDFUNDS": 0.05,
         "Predictions": -0.06989772197593691,
         "_deepnote_index_column": 243
        },
        {
         "Date": "2020-05-01T00:00:00.000000",
         "Rate": 1,
         "M2SL": 17856.5,
         "UNRATE": 13.2,
         "FEDFUNDS": 0.05,
         "Predictions": 0.10165751584446436,
         "_deepnote_index_column": 244
        },
        {
         "Date": "2020-06-01T00:00:00.000000",
         "Rate": 1,
         "M2SL": 18153,
         "UNRATE": 11,
         "FEDFUNDS": 0.08,
         "Predictions": 0.4470370613362995,
         "_deepnote_index_column": 245
        },
        {
         "Date": "2020-07-01T00:00:00.000000",
         "Rate": 0.8,
         "M2SL": 18302.5,
         "UNRATE": 10.2,
         "FEDFUNDS": 0.09,
         "Predictions": 0.5684530665029448,
         "_deepnote_index_column": 246
        },
        {
         "Date": "2020-08-01T00:00:00.000000",
         "Rate": 1.1,
         "M2SL": 18384.7,
         "UNRATE": 8.4,
         "FEDFUNDS": 0.1,
         "Predictions": 0.8653789885489331,
         "_deepnote_index_column": 247
        },
        {
         "Date": "2020-09-01T00:00:00.000000",
         "Rate": 1.5,
         "M2SL": 18601.8,
         "UNRATE": 7.9,
         "FEDFUNDS": 0.09,
         "Predictions": 0.927574466615356,
         "_deepnote_index_column": 248
        },
        {
         "Date": "2020-10-01T00:00:00.000000",
         "Rate": 1.6,
         "M2SL": 18763.6,
         "UNRATE": 6.9,
         "FEDFUNDS": 0.09,
         "Predictions": 1.0806070601987026,
         "_deepnote_index_column": 249
        }
       ]
      },
      "text/plain": "          Date  Rate     M2SL  UNRATE  FEDFUNDS  Predictions\n0   2000-01-01   2.7   4666.2     4.0      5.45     3.467065\n1   2000-02-01   3.2   4679.4     4.1      5.73     3.475705\n2   2000-03-01   3.8   4710.2     4.0      5.85     3.501070\n3   2000-04-01   3.1   4766.1     3.8      6.02     3.545654\n4   2000-05-01   3.2   4753.9     4.0      6.27     3.537021\n..         ...   ...      ...     ...       ...          ...\n259 2021-08-01   0.2  20905.2     5.2      0.09     1.157634\n260 2021-09-01   0.0  21045.7     4.7      0.08     1.227344\n261 2021-10-01   0.2  21200.5     4.6      0.08     1.229047\n262 2021-11-01   0.5  21407.2     4.2      0.08     1.276331\n263 2021-12-01   0.7  21553.1     3.9      0.08     1.312688\n\n[264 rows x 6 columns]",
      "text/html": "<div>\n<style scoped>\n    .dataframe tbody tr th:only-of-type {\n        vertical-align: middle;\n    }\n\n    .dataframe tbody tr th {\n        vertical-align: top;\n    }\n\n    .dataframe thead th {\n        text-align: right;\n    }\n</style>\n<table border=\"1\" class=\"dataframe\">\n  <thead>\n    <tr style=\"text-align: right;\">\n      <th></th>\n      <th>Date</th>\n      <th>Rate</th>\n      <th>M2SL</th>\n      <th>UNRATE</th>\n      <th>FEDFUNDS</th>\n      <th>Predictions</th>\n    </tr>\n  </thead>\n  <tbody>\n    <tr>\n      <th>0</th>\n      <td>2000-01-01</td>\n      <td>2.7</td>\n      <td>4666.2</td>\n      <td>4.0</td>\n      <td>5.45</td>\n      <td>3.467065</td>\n    </tr>\n    <tr>\n      <th>1</th>\n      <td>2000-02-01</td>\n      <td>3.2</td>\n      <td>4679.4</td>\n      <td>4.1</td>\n      <td>5.73</td>\n      <td>3.475705</td>\n    </tr>\n    <tr>\n      <th>2</th>\n      <td>2000-03-01</td>\n      <td>3.8</td>\n      <td>4710.2</td>\n      <td>4.0</td>\n      <td>5.85</td>\n      <td>3.501070</td>\n    </tr>\n    <tr>\n      <th>3</th>\n      <td>2000-04-01</td>\n      <td>3.1</td>\n      <td>4766.1</td>\n      <td>3.8</td>\n      <td>6.02</td>\n      <td>3.545654</td>\n    </tr>\n    <tr>\n      <th>4</th>\n      <td>2000-05-01</td>\n      <td>3.2</td>\n      <td>4753.9</td>\n      <td>4.0</td>\n      <td>6.27</td>\n      <td>3.537021</td>\n    </tr>\n    <tr>\n      <th>...</th>\n      <td>...</td>\n      <td>...</td>\n      <td>...</td>\n      <td>...</td>\n      <td>...</td>\n      <td>...</td>\n    </tr>\n    <tr>\n      <th>259</th>\n      <td>2021-08-01</td>\n      <td>0.2</td>\n      <td>20905.2</td>\n      <td>5.2</td>\n      <td>0.09</td>\n      <td>1.157634</td>\n    </tr>\n    <tr>\n      <th>260</th>\n      <td>2021-09-01</td>\n      <td>0.0</td>\n      <td>21045.7</td>\n      <td>4.7</td>\n      <td>0.08</td>\n      <td>1.227344</td>\n    </tr>\n    <tr>\n      <th>261</th>\n      <td>2021-10-01</td>\n      <td>0.2</td>\n      <td>21200.5</td>\n      <td>4.6</td>\n      <td>0.08</td>\n      <td>1.229047</td>\n    </tr>\n    <tr>\n      <th>262</th>\n      <td>2021-11-01</td>\n      <td>0.5</td>\n      <td>21407.2</td>\n      <td>4.2</td>\n      <td>0.08</td>\n      <td>1.276331</td>\n    </tr>\n    <tr>\n      <th>263</th>\n      <td>2021-12-01</td>\n      <td>0.7</td>\n      <td>21553.1</td>\n      <td>3.9</td>\n      <td>0.08</td>\n      <td>1.312688</td>\n    </tr>\n  </tbody>\n</table>\n<p>264 rows × 6 columns</p>\n</div>"
     },
     "metadata": {}
    }
   ]
  },
  {
   "cell_type": "code",
   "metadata": {
    "cell_id": "75e3a585e119430bbd6aebf59a944c8d",
    "tags": [],
    "deepnote_to_be_reexecuted": false,
    "source_hash": "eeef6f51",
    "execution_start": 1648962823177,
    "execution_millis": 48,
    "deepnote_cell_type": "code",
    "deepnote_cell_height": 190.1875,
    "deepnote_output_heights": [
     21.1875
    ]
   },
   "source": "reg[\"Error\"] = reg[\"Rate\"] - reg[\"Predictions\"]\n\nrmse = np.sqrt(np.mean(sum((reg[\"Error\"])**2)))\n\nrmse",
   "execution_count": null,
   "outputs": [
    {
     "output_type": "execute_result",
     "execution_count": 33,
     "data": {
      "text/plain": "19.57976063437489"
     },
     "metadata": {}
    }
   ]
  },
  {
   "cell_type": "code",
   "metadata": {
    "cell_id": "b509fb5b2fd847859ab8c64e6633ccef",
    "tags": [],
    "deepnote_to_be_reexecuted": false,
    "source_hash": "75d1a4be",
    "execution_start": 1648962823225,
    "execution_millis": 41,
    "deepnote_cell_type": "code",
    "deepnote_cell_height": 99
   },
   "source": "train1 = reg[0:int(np.round(0.8*len(reg), decimals=0)+1)]\ntest1 = reg[int(np.round(0.8*len(reg), decimals=0)+1):]",
   "execution_count": null,
   "outputs": []
  },
  {
   "cell_type": "code",
   "metadata": {
    "cell_id": "0286ba4205dd4eaf998fc1cc9bf7fae4",
    "tags": [],
    "deepnote_to_be_reexecuted": false,
    "source_hash": "e0320e02",
    "execution_start": 1648962823266,
    "execution_millis": 43,
    "deepnote_cell_type": "code",
    "deepnote_cell_height": 136.1875,
    "deepnote_output_heights": [
     21.1875
    ]
   },
   "source": "rmse_test = np.sqrt(np.mean(sum((reg[\"Error\"][int(np.round(0.8*len(reg), decimals=0)+1):])**2)))\nrmse_test",
   "execution_count": null,
   "outputs": [
    {
     "output_type": "execute_result",
     "execution_count": 35,
     "data": {
      "text/plain": "4.899926578555445"
     },
     "metadata": {}
    }
   ]
  },
  {
   "cell_type": "code",
   "metadata": {
    "cell_id": "1f3007b61a02460899ce610d7577e6d3",
    "tags": [],
    "deepnote_to_be_reexecuted": false,
    "source_hash": "201c7646",
    "execution_start": 1648965939938,
    "execution_millis": 810,
    "deepnote_cell_type": "code",
    "deepnote_cell_height": 503,
    "deepnote_output_heights": [
     280
    ]
   },
   "source": "plt.plot(train1[\"Date\"], train1[\"Rate\"], label=\"Training\")\nplt.plot(test1[\"Date\"], test1[\"Rate\"], label=\"Testing\")\nplt.plot(test1[\"Date\"], reg[\"Predictions\"][int(np.round(0.8*len(reg), decimals=0)+1):], label=\"Predictions\")\nplt.legend(loc=\"upper left\")\nplt.xlabel(\"Month\")\nplt.ylabel(\"Inflation Rate\")\nplt.title(\"Monthly Inflation Rate from 2000 to 2021\")\nplt.show()",
   "execution_count": null,
   "outputs": [
    {
     "data": {
      "text/plain": "<Figure size 432x288 with 1 Axes>",
      "image/png": "[encoded data removed]"
     },
     "metadata": {
      "needs_background": "light",
      "image/png": {
       "width": 384,
       "height": 278
      }
     },
     "output_type": "display_data"
    }
   ]
  },
  {
   "cell_type": "code",
   "metadata": {
    "cell_id": "5ae9e7a4074f48fa9659a971c95082cb",
    "tags": [],
    "deepnote_to_be_reexecuted": false,
    "source_hash": "7a1128ce",
    "execution_start": 1648965969859,
    "execution_millis": 830,
    "deepnote_cell_type": "code",
    "deepnote_cell_height": 519.1875,
    "deepnote_output_heights": [
     21.1875,
     280
    ]
   },
   "source": "plt.plot(reg[\"Date\"], reg[\"Rate\"], label=\"Actual\")\nplt.plot(reg[\"Date\"], reg[\"Predictions\"], label=\"Predicted\")\nplt.xlabel(\"Month\")\nplt.ylabel(\"Inflation Rate\")\nplt.title(\"Monthly Inflation Rate from 2000 to 2021\")\nplt.legend()",
   "execution_count": null,
   "outputs": [
    {
     "output_type": "execute_result",
     "execution_count": 72,
     "data": {
      "text/plain": "<matplotlib.legend.Legend at 0x7f8709bcccd0>"
     },
     "metadata": {}
    },
    {
     "data": {
      "text/plain": "<Figure size 432x288 with 1 Axes>",
      "image/png": "[encoded data removed]"
     },
     "metadata": {
      "needs_background": "light",
      "image/png": {
       "width": 384,
       "height": 278
      }
     },
     "output_type": "display_data"
    }
   ]
  },
  {
   "cell_type": "markdown",
   "source": "### Vector Autoregressive Model",
   "metadata": {
    "formattedRanges": [],
    "cell_id": "f817e892bedc4ef8937f99641f23de25",
    "tags": [],
    "is_collapsed": false,
    "deepnote_cell_type": "text-cell-h3"
   }
  },
  {
   "cell_type": "code",
   "metadata": {
    "cell_id": "1cd3fa6ae3bd4267b171066fd5c8d3ae",
    "tags": [],
    "deepnote_to_be_reexecuted": false,
    "source_hash": "8608e36a",
    "execution_start": 1648962859488,
    "execution_millis": 1,
    "deepnote_cell_type": "code",
    "deepnote_cell_height": 81
   },
   "source": "from statsmodels.tsa.api import VAR",
   "execution_count": null,
   "outputs": []
  },
  {
   "cell_type": "code",
   "metadata": {
    "cell_id": "418b5b772fbd461fbdc1d3ff8197fcac",
    "tags": [],
    "deepnote_to_be_reexecuted": false,
    "source_hash": "bcb3b0fe",
    "execution_start": 1648966292615,
    "execution_millis": 10,
    "deepnote_cell_type": "code",
    "deepnote_cell_height": 135
   },
   "source": "reg_df = reg[[\"Rate\", \"M2SL\", \"UNRATE\", \"FEDFUNDS\"]]\n\ntrain_var = reg_df[0:212]\ntest_var = reg_df[212:]",
   "execution_count": null,
   "outputs": []
  },
  {
   "cell_type": "code",
   "metadata": {
    "cell_id": "8c62c440a8e14b838982416d0d0c0a37",
    "tags": [],
    "deepnote_to_be_reexecuted": false,
    "source_hash": "ec85397c",
    "execution_start": 1648966322034,
    "execution_millis": 616,
    "deepnote_cell_type": "code",
    "deepnote_cell_height": 744,
    "deepnote_output_heights": [
     611
    ]
   },
   "source": "model = VAR(train_var)\nmodel_fit = model.fit(maxlags=25)\nmodel_fit.summary()",
   "execution_count": null,
   "outputs": [
    {
     "output_type": "execute_result",
     "execution_count": 77,
     "data": {
      "text/plain": "  Summary of Regression Results   \n==================================\nModel:                         VAR\nMethod:                        OLS\nDate:           Sun, 03, Apr, 2022\nTime:                     06:12:02\n--------------------------------------------------------------------\nNo. of Equations:         4.00000    BIC:                    4.39306\nNobs:                     187.000    HQIC:                  0.241011\nLog likelihood:          -415.433    FPE:                   0.125692\nAIC:                     -2.58752    Det(Omega_mle):       0.0223410\n--------------------------------------------------------------------\nResults for equation Rate\n===============================================================================\n                  coefficient       std. error           t-stat            prob\n-------------------------------------------------------------------------------\nconst                1.170281         1.116275            1.048           0.294\nL1.Rate              1.228529         0.113358           10.838           0.000\nL1.M2SL             -0.000578         0.002855           -0.203           0.839\nL1.UNRATE            0.216084         0.436289            0.495           0.620\nL1.FEDFUNDS         -0.459747         0.578188           -0.795           0.427\nL2.Rate             -0.493952         0.172959           -2.856           0.004\nL2.M2SL             -0.001037         0.003640           -0.285           0.776\nL2.UNRATE           -0.572366         0.584879           -0.979           0.328\nL2.FEDFUNDS          1.518377         1.042861            1.456           0.145\nL3.Rate              0.129579         0.179023            0.724           0.469\nL3.M2SL              0.006712         0.003815            1.759           0.079\nL3.UNRATE            0.235774         0.574593            0.410           0.682\nL3.FEDFUNDS         -2.155796         1.099083           -1.961           0.050\nL4.Rate             -0.012360         0.178346           -0.069           0.945\nL4.M2SL             -0.007681         0.003966           -1.936           0.053\nL4.UNRATE            0.541968         0.568946            0.953           0.341\nL4.FEDFUNDS          1.234956         1.121740            1.101           0.271\nL5.Rate             -0.009534         0.173756           -0.055           0.956\nL5.M2SL              0.002737         0.003804            0.719           0.472\nL5.UNRATE           -1.104935         0.564816           -1.956           0.050\nL5.FEDFUNDS         -0.393138         1.118255           -0.352           0.725\nL6.Rate             -0.085287         0.168639           -0.506           0.613\nL6.M2SL             -0.000116         0.003452           -0.034           0.973\nL6.UNRATE            0.831080         0.570691            1.456           0.145\nL6.FEDFUNDS          0.848992         1.111157            0.764           0.445\nL7.Rate              0.153746         0.168527            0.912           0.362\nL7.M2SL              0.000350         0.003511            0.100           0.921\nL7.UNRATE            0.049974         0.572190            0.087           0.930\nL7.FEDFUNDS         -1.151038         1.094590           -1.052           0.293\nL8.Rate             -0.254031         0.172102           -1.476           0.140\nL8.M2SL             -0.001187         0.003527           -0.336           0.736\nL8.UNRATE           -0.680852         0.568048           -1.199           0.231\nL8.FEDFUNDS          1.180606         1.091858            1.081           0.280\nL9.Rate              0.106813         0.178803            0.597           0.550\nL9.M2SL              0.001117         0.003432            0.325           0.745\nL9.UNRATE            0.897326         0.573142            1.566           0.117\nL9.FEDFUNDS         -0.173284         1.084796           -0.160           0.873\nL10.Rate             0.010084         0.178166            0.057           0.955\nL10.M2SL             0.001266         0.003394            0.373           0.709\nL10.UNRATE          -0.092012         0.585431           -0.157           0.875\nL10.FEDFUNDS        -0.638450         1.132667           -0.564           0.573\nL11.Rate            -0.119749         0.176630           -0.678           0.498\nL11.M2SL            -0.004439         0.003362           -1.321           0.187\nL11.UNRATE          -0.550438         0.589228           -0.934           0.350\nL11.FEDFUNDS         0.466767         1.146725            0.407           0.684\nL12.Rate            -0.215073         0.173201           -1.242           0.214\nL12.M2SL             0.003294         0.003322            0.992           0.321\nL12.UNRATE           0.175461         0.601453            0.292           0.770\nL12.FEDFUNDS        -0.192427         1.083129           -0.178           0.859\nL13.Rate             0.312649         0.162086            1.929           0.054\nL13.M2SL            -0.004166         0.003289           -1.267           0.205\nL13.UNRATE           1.023391         0.617684            1.657           0.098\nL13.FEDFUNDS        -0.165031         1.079890           -0.153           0.879\nL14.Rate            -0.185580         0.159353           -1.165           0.244\nL14.M2SL             0.004034         0.003368            1.198           0.231\nL14.UNRATE          -1.500302         0.604922           -2.480           0.013\nL14.FEDFUNDS         0.227498         1.056780            0.215           0.830\nL15.Rate             0.140995         0.156609            0.900           0.368\nL15.M2SL            -0.001853         0.003428           -0.540           0.589\nL15.UNRATE           0.621589         0.618988            1.004           0.315\nL15.FEDFUNDS        -0.097915         1.031945           -0.095           0.924\nL16.Rate             0.047850         0.155106            0.309           0.758\nL16.M2SL             0.002177         0.003435            0.634           0.526\nL16.UNRATE          -0.305366         0.616364           -0.495           0.620\nL16.FEDFUNDS         0.072248         1.048736            0.069           0.945\nL17.Rate            -0.046885         0.156466           -0.300           0.764\nL17.M2SL            -0.000655         0.003593           -0.182           0.855\nL17.UNRATE          -0.318570         0.607403           -0.524           0.600\nL17.FEDFUNDS         0.171905         1.028249            0.167           0.867\nL18.Rate            -0.139959         0.154810           -0.904           0.366\nL18.M2SL             0.002470         0.003641            0.678           0.498\nL18.UNRATE           0.179981         0.596380            0.302           0.763\nL18.FEDFUNDS        -0.914269         1.023927           -0.893           0.372\nL19.Rate             0.038931         0.155742            0.250           0.803\nL19.M2SL            -0.004394         0.003500           -1.255           0.209\nL19.UNRATE           0.384254         0.592230            0.649           0.516\nL19.FEDFUNDS         1.580215         1.010216            1.564           0.118\nL20.Rate             0.087228         0.214376            0.407           0.684\nL20.M2SL             0.003033         0.003549            0.855           0.393\nL20.UNRATE          -1.444604         0.606890           -2.380           0.017\nL20.FEDFUNDS        -1.080210         1.013849           -1.065           0.287\nL21.Rate            -0.208735         0.289413           -0.721           0.471\nL21.M2SL            -0.000454         0.003598           -0.126           0.900\nL21.UNRATE           1.518983         0.618706            2.455           0.014\nL21.FEDFUNDS        -0.267051         1.026376           -0.260           0.795\nL22.Rate             0.250867         0.284237            0.883           0.377\nL22.M2SL            -0.001138         0.003569           -0.319           0.750\nL22.UNRATE          -0.152455         0.629600           -0.242           0.809\nL22.FEDFUNDS         0.385492         1.021221            0.377           0.706\nL23.Rate            -0.496317         0.282160           -1.759           0.079\nL23.M2SL            -0.002579         0.003468           -0.744           0.457\nL23.UNRATE          -0.090115         0.613806           -0.147           0.883\nL23.FEDFUNDS        -0.017155         1.032301           -0.017           0.987\nL24.Rate             0.369684         0.274899            1.345           0.179\nL24.M2SL             0.003558         0.003301            1.078           0.281\nL24.UNRATE           0.271680         0.595412            0.456           0.648\nL24.FEDFUNDS         0.020728         0.985104            0.021           0.983\nL25.Rate            -0.032343         0.178122           -0.182           0.856\nL25.M2SL            -0.000455         0.002275           -0.200           0.841\nL25.UNRATE          -0.153975         0.420206           -0.366           0.714\nL25.FEDFUNDS         0.066456         0.553121            0.120           0.904\n===============================================================================\n\nResults for equation M2SL\n===============================================================================\n                  coefficient       std. error           t-stat            prob\n-------------------------------------------------------------------------------\nconst             -165.681051        44.020234           -3.764           0.000\nL1.Rate             -3.445909         4.470248           -0.771           0.441\nL1.M2SL              0.828397         0.112592            7.357           0.000\nL1.UNRATE           20.595791        17.205016            1.197           0.231\nL1.FEDFUNDS        -32.167874        22.800821           -1.411           0.158\nL2.Rate              0.516405         6.820640            0.076           0.940\nL2.M2SL             -0.008690         0.143553           -0.061           0.952\nL2.UNRATE           -6.535886        23.064678           -0.283           0.777\nL2.FEDFUNDS         10.908676        41.125138            0.265           0.791\nL3.Rate              7.633443         7.059755            1.081           0.280\nL3.M2SL              0.126163         0.150458            0.839           0.402\nL3.UNRATE          -32.278301        22.659041           -1.425           0.154\nL3.FEDFUNDS          9.614991        43.342256            0.222           0.824\nL4.Rate             -8.569022         7.033079           -1.218           0.223\nL4.M2SL             -0.247913         0.156414           -1.585           0.113\nL4.UNRATE           14.455309        22.436366            0.644           0.519\nL4.FEDFUNDS         19.954390        44.235732            0.451           0.652\nL5.Rate              7.019365         6.852052            1.024           0.306\nL5.M2SL              0.074127         0.150019            0.494           0.621\nL5.UNRATE          -21.999901        22.273479           -0.988           0.323\nL5.FEDFUNDS        -43.105492        44.098312           -0.977           0.328\nL6.Rate             -3.638403         6.650259           -0.547           0.584\nL6.M2SL              0.137710         0.136126            1.012           0.312\nL6.UNRATE          -10.220580        22.505142           -0.454           0.650\nL6.FEDFUNDS         72.591640        43.818396            1.657           0.098\nL7.Rate              5.014970         6.645869            0.755           0.450\nL7.M2SL              0.025876         0.138456            0.187           0.852\nL7.UNRATE          -11.377467        22.564258           -0.504           0.614\nL7.FEDFUNDS        -72.794951        43.165093           -1.686           0.092\nL8.Rate              1.999319         6.786815            0.295           0.768\nL8.M2SL             -0.130913         0.139084           -0.941           0.347\nL8.UNRATE           30.084277        22.400934            1.343           0.179\nL8.FEDFUNDS          4.115911        43.057365            0.096           0.924\nL9.Rate              7.367459         7.051097            1.045           0.296\nL9.M2SL              0.073111         0.135325            0.540           0.589\nL9.UNRATE           21.198036        22.601800            0.938           0.348\nL9.FEDFUNDS         55.937568        42.778860            1.308           0.191\nL10.Rate            -5.435759         7.025948           -0.774           0.439\nL10.M2SL             0.109656         0.133839            0.819           0.413\nL10.UNRATE         -27.205311        23.086442           -1.178           0.239\nL10.FEDFUNDS       -55.801530        44.666654           -1.249           0.212\nL11.Rate             4.415188         6.965411            0.634           0.526\nL11.M2SL            -0.112990         0.132574           -0.852           0.394\nL11.UNRATE         -24.772462        23.236183           -1.066           0.286\nL11.FEDFUNDS        -4.511460        45.221005           -0.100           0.921\nL12.Rate             3.506988         6.830164            0.513           0.608\nL12.M2SL             0.061263         0.131012            0.468           0.640\nL12.UNRATE          47.561128        23.718244            2.005           0.045\nL12.FEDFUNDS        28.065464        42.713102            0.657           0.511\nL13.Rate            -7.580900         6.391867           -1.186           0.236\nL13.M2SL            -0.184065         0.129709           -1.419           0.156\nL13.UNRATE         -19.328600        24.358344           -0.794           0.427\nL13.FEDFUNDS        20.024463        42.585405            0.470           0.638\nL14.Rate             7.585708         6.284079            1.207           0.227\nL14.M2SL             0.353889         0.132809            2.665           0.008\nL14.UNRATE           1.254816        23.855057            0.053           0.958\nL14.FEDFUNDS       -31.519631        41.674065           -0.756           0.449\nL15.Rate            -0.322188         6.175869           -0.052           0.958\nL15.M2SL            -0.223784         0.135189           -1.655           0.098\nL15.UNRATE          -9.846421        24.409764           -0.403           0.687\nL15.FEDFUNDS        13.425282        40.694701            0.330           0.741\nL16.Rate             3.388065         6.116581            0.554           0.580\nL16.M2SL             0.262984         0.135467            1.941           0.052\nL16.UNRATE          39.999234        24.306279            1.646           0.100\nL16.FEDFUNDS        33.124194        41.356835            0.801           0.423\nL17.Rate            -1.977226         6.170218           -0.320           0.749\nL17.M2SL            -0.334652         0.141682           -2.362           0.018\nL17.UNRATE          19.248028        23.952895            0.804           0.422\nL17.FEDFUNDS       -51.069145        40.548951           -1.259           0.208\nL18.Rate             1.280416         6.104930            0.210           0.834\nL18.M2SL             0.094056         0.143591            0.655           0.512\nL18.UNRATE           3.144469        23.518222            0.134           0.894\nL18.FEDFUNDS       -20.280649        40.378493           -0.502           0.615\nL19.Rate             0.478477         6.141663            0.078           0.938\nL19.M2SL            -0.154997         0.138033           -1.123           0.261\nL19.UNRATE         -44.917389        23.354547           -1.923           0.054\nL19.FEDFUNDS        57.041329        39.837782            1.432           0.152\nL20.Rate            12.329787         8.453910            1.458           0.145\nL20.M2SL             0.347787         0.139939            2.485           0.013\nL20.UNRATE          17.563588        23.932655            0.734           0.463\nL20.FEDFUNDS       -10.935269        39.981058           -0.274           0.784\nL21.Rate            11.510021        11.413001            1.009           0.313\nL21.M2SL            -0.219140         0.141887           -1.544           0.122\nL21.UNRATE          13.221093        24.398643            0.542           0.588\nL21.FEDFUNDS       -50.921627        40.475080           -1.258           0.208\nL22.Rate           -17.872261        11.208869           -1.594           0.111\nL22.M2SL             0.039829         0.140738            0.283           0.777\nL22.UNRATE          -5.228683        24.828228           -0.211           0.833\nL22.FEDFUNDS        24.663049        40.271801            0.612           0.540\nL23.Rate             5.753801        11.126955            0.517           0.605\nL23.M2SL             0.080564         0.136767            0.589           0.556\nL23.UNRATE         -11.173335        24.205397           -0.462           0.644\nL23.FEDFUNDS        42.243911        40.708725            1.038           0.299\nL24.Rate             2.832716        10.840641            0.261           0.794\nL24.M2SL            -0.155295         0.130177           -1.193           0.233\nL24.UNRATE          -5.666747        23.480051           -0.241           0.809\nL24.FEDFUNDS       -32.236884        38.847509           -0.830           0.407\nL25.Rate            -7.733259         7.024230           -1.101           0.271\nL25.M2SL             0.176251         0.089723            1.964           0.049\nL25.UNRATE          15.706643        16.570789            0.948           0.343\nL25.FEDFUNDS        19.945715        21.812303            0.914           0.360\n===============================================================================\n\nResults for equation UNRATE\n===============================================================================\n                  coefficient       std. error           t-stat            prob\n-------------------------------------------------------------------------------\nconst               -0.500492         0.275503           -1.817           0.069\nL1.Rate              0.004808         0.027977            0.172           0.864\nL1.M2SL              0.001138         0.000705            1.614           0.106\nL1.UNRATE            0.988729         0.107679            9.182           0.000\nL1.FEDFUNDS         -0.135419         0.142700           -0.949           0.343\nL2.Rate             -0.053373         0.042687           -1.250           0.211\nL2.M2SL             -0.002972         0.000898           -3.308           0.001\nL2.UNRATE            0.071694         0.144352            0.497           0.619\nL2.FEDFUNDS          0.252318         0.257384            0.980           0.327\nL3.Rate              0.042403         0.044184            0.960           0.337\nL3.M2SL              0.001672         0.000942            1.776           0.076\nL3.UNRATE           -0.062487         0.141813           -0.441           0.659\nL3.FEDFUNDS         -0.299433         0.271260           -1.104           0.270\nL4.Rate              0.037841         0.044017            0.860           0.390\nL4.M2SL              0.000138         0.000979            0.141           0.888\nL4.UNRATE            0.156999         0.140419            1.118           0.264\nL4.FEDFUNDS          0.208562         0.276852            0.753           0.451\nL5.Rate             -0.042999         0.042884           -1.003           0.316\nL5.M2SL             -0.000603         0.000939           -0.642           0.521\nL5.UNRATE            0.108210         0.139400            0.776           0.438\nL5.FEDFUNDS         -0.230282         0.275992           -0.834           0.404\nL6.Rate              0.016257         0.041621            0.391           0.696\nL6.M2SL             -0.001442         0.000852           -1.692           0.091\nL6.UNRATE           -0.126281         0.140850           -0.897           0.370\nL6.FEDFUNDS          0.088817         0.274240            0.324           0.746\nL7.Rate              0.031936         0.041594            0.768           0.443\nL7.M2SL              0.001638         0.000867            1.890           0.059\nL7.UNRATE           -0.128779         0.141220           -0.912           0.362\nL7.FEDFUNDS          0.211097         0.270151            0.781           0.435\nL8.Rate             -0.014941         0.042476           -0.352           0.725\nL8.M2SL             -0.000313         0.000870           -0.360           0.719\nL8.UNRATE           -0.020731         0.140198           -0.148           0.882\nL8.FEDFUNDS         -0.166133         0.269477           -0.617           0.538\nL9.Rate             -0.011404         0.044130           -0.258           0.796\nL9.M2SL              0.001488         0.000847            1.757           0.079\nL9.UNRATE           -0.164934         0.141455           -1.166           0.244\nL9.FEDFUNDS          0.290770         0.267734            1.086           0.277\nL10.Rate             0.054882         0.043972            1.248           0.212\nL10.M2SL            -0.000669         0.000838           -0.798           0.425\nL10.UNRATE           0.121215         0.144488            0.839           0.402\nL10.FEDFUNDS        -0.439559         0.279549           -1.572           0.116\nL11.Rate            -0.033751         0.043593           -0.774           0.439\nL11.M2SL            -0.000835         0.000830           -1.006           0.314\nL11.UNRATE          -0.010067         0.145425           -0.069           0.945\nL11.FEDFUNDS         0.427540         0.283018            1.511           0.131\nL12.Rate             0.002485         0.042747            0.058           0.954\nL12.M2SL             0.001252         0.000820            1.527           0.127\nL12.UNRATE          -0.131335         0.148442           -0.885           0.376\nL12.FEDFUNDS        -0.449940         0.267322           -1.683           0.092\nL13.Rate            -0.004791         0.040004           -0.120           0.905\nL13.M2SL            -0.001690         0.000812           -2.082           0.037\nL13.UNRATE           0.068548         0.152448            0.450           0.653\nL13.FEDFUNDS         0.178739         0.266523            0.671           0.502\nL14.Rate             0.036655         0.039329            0.932           0.351\nL14.M2SL             0.000316         0.000831            0.380           0.704\nL14.UNRATE           0.242710         0.149298            1.626           0.104\nL14.FEDFUNDS         0.088786         0.260820            0.340           0.734\nL15.Rate            -0.048184         0.038652           -1.247           0.213\nL15.M2SL             0.000123         0.000846            0.146           0.884\nL15.UNRATE          -0.119628         0.152770           -0.783           0.434\nL15.FEDFUNDS        -0.142250         0.254690           -0.559           0.576\nL16.Rate             0.047035         0.038281            1.229           0.219\nL16.M2SL             0.000871         0.000848            1.027           0.304\nL16.UNRATE          -0.013415         0.152122           -0.088           0.930\nL16.FEDFUNDS        -0.061016         0.258834           -0.236           0.814\nL17.Rate             0.007579         0.038617            0.196           0.844\nL17.M2SL            -0.000607         0.000887           -0.685           0.494\nL17.UNRATE          -0.068756         0.149911           -0.459           0.646\nL17.FEDFUNDS         0.312873         0.253778            1.233           0.218\nL18.Rate             0.008628         0.038208            0.226           0.821\nL18.M2SL             0.001059         0.000899            1.178           0.239\nL18.UNRATE           0.042868         0.147190            0.291           0.771\nL18.FEDFUNDS        -0.150656         0.252711           -0.596           0.551\nL19.Rate             0.024626         0.038438            0.641           0.522\nL19.M2SL            -0.000855         0.000864           -0.990           0.322\nL19.UNRATE           0.101872         0.146166            0.697           0.486\nL19.FEDFUNDS        -0.128269         0.249327           -0.514           0.607\nL20.Rate            -0.062194         0.052909           -1.175           0.240\nL20.M2SL             0.000439         0.000876            0.501           0.616\nL20.UNRATE           0.047791         0.149784            0.319           0.750\nL20.FEDFUNDS         0.348186         0.250224            1.391           0.164\nL21.Rate             0.053334         0.071429            0.747           0.455\nL21.M2SL            -0.000529         0.000888           -0.595           0.552\nL21.UNRATE          -0.149349         0.152700           -0.978           0.328\nL21.FEDFUNDS        -0.303108         0.253316           -1.197           0.231\nL22.Rate             0.027068         0.070151            0.386           0.700\nL22.M2SL             0.000760         0.000881            0.863           0.388\nL22.UNRATE           0.020472         0.155389            0.132           0.895\nL22.FEDFUNDS         0.164291         0.252043            0.652           0.515\nL23.Rate            -0.030317         0.069639           -0.435           0.663\nL23.M2SL            -0.000476         0.000856           -0.556           0.578\nL23.UNRATE           0.140818         0.151491            0.930           0.353\nL23.FEDFUNDS        -0.307623         0.254778           -1.207           0.227\nL24.Rate            -0.038693         0.067847           -0.570           0.568\nL24.M2SL            -0.001660         0.000815           -2.038           0.042\nL24.UNRATE          -0.191389         0.146951           -1.302           0.193\nL24.FEDFUNDS         0.165980         0.243129            0.683           0.495\nL25.Rate             0.060923         0.043962            1.386           0.166\nL25.M2SL             0.001805         0.000562            3.215           0.001\nL25.UNRATE           0.101669         0.103709            0.980           0.327\nL25.FEDFUNDS         0.086396         0.136514            0.633           0.527\n===============================================================================\n\nResults for equation FEDFUNDS\n===============================================================================\n                  coefficient       std. error           t-stat            prob\n-------------------------------------------------------------------------------\nconst                0.568803         0.208928            2.722           0.006\nL1.Rate              0.005211         0.021217            0.246           0.806\nL1.M2SL              0.000287         0.000534            0.537           0.592\nL1.UNRATE           -0.007996         0.081658           -0.098           0.922\nL1.FEDFUNDS          1.536043         0.108217           14.194           0.000\nL2.Rate              0.000757         0.032372            0.023           0.981\nL2.M2SL              0.000072         0.000681            0.106           0.916\nL2.UNRATE           -0.052252         0.109469           -0.477           0.633\nL2.FEDFUNDS         -0.552852         0.195188           -2.832           0.005\nL3.Rate             -0.023477         0.033507           -0.701           0.484\nL3.M2SL              0.000526         0.000714            0.736           0.462\nL3.UNRATE            0.062507         0.107544            0.581           0.561\nL3.FEDFUNDS         -0.031706         0.205711           -0.154           0.878\nL4.Rate              0.025355         0.033380            0.760           0.448\nL4.M2SL             -0.000733         0.000742           -0.987           0.324\nL4.UNRATE           -0.068534         0.106487           -0.644           0.520\nL4.FEDFUNDS         -0.054313         0.209951           -0.259           0.796\nL5.Rate             -0.021219         0.032521           -0.652           0.514\nL5.M2SL              0.000493         0.000712            0.692           0.489\nL5.UNRATE            0.057787         0.105714            0.547           0.585\nL5.FEDFUNDS          0.248742         0.209299            1.188           0.235\nL6.Rate              0.037683         0.031563            1.194           0.233\nL6.M2SL             -0.000606         0.000646           -0.938           0.348\nL6.UNRATE            0.083742         0.106814            0.784           0.433\nL6.FEDFUNDS         -0.230738         0.207970           -1.109           0.267\nL7.Rate             -0.017433         0.031543           -0.553           0.580\nL7.M2SL             -0.000125         0.000657           -0.190           0.849\nL7.UNRATE           -0.044036         0.107094           -0.411           0.681\nL7.FEDFUNDS         -0.086298         0.204870           -0.421           0.674\nL8.Rate             -0.015844         0.032212           -0.492           0.623\nL8.M2SL             -0.000277         0.000660           -0.419           0.675\nL8.UNRATE            0.069893         0.106319            0.657           0.511\nL8.FEDFUNDS          0.536384         0.204358            2.625           0.009\nL9.Rate             -0.000786         0.033466           -0.023           0.981\nL9.M2SL              0.000234         0.000642            0.364           0.716\nL9.UNRATE            0.006071         0.107272            0.057           0.955\nL9.FEDFUNDS         -0.575241         0.203037           -2.833           0.005\nL10.Rate             0.028686         0.033346            0.860           0.390\nL10.M2SL            -0.000284         0.000635           -0.447           0.655\nL10.UNRATE          -0.107758         0.109573           -0.983           0.325\nL10.FEDFUNDS         0.085638         0.211996            0.404           0.686\nL11.Rate            -0.052278         0.033059           -1.581           0.114\nL11.M2SL             0.000902         0.000629            1.433           0.152\nL11.UNRATE           0.047224         0.110283            0.428           0.669\nL11.FEDFUNDS         0.166987         0.214627            0.778           0.437\nL12.Rate             0.015531         0.032417            0.479           0.632\nL12.M2SL            -0.000430         0.000622           -0.692           0.489\nL12.UNRATE          -0.070879         0.112571           -0.630           0.529\nL12.FEDFUNDS         0.096205         0.202724            0.475           0.635\nL13.Rate             0.051771         0.030337            1.707           0.088\nL13.M2SL            -0.000145         0.000616           -0.235           0.814\nL13.UNRATE           0.000363         0.115609            0.003           0.997\nL13.FEDFUNDS        -0.311556         0.202118           -1.541           0.123\nL14.Rate            -0.059145         0.029825           -1.983           0.047\nL14.M2SL            -0.000183         0.000630           -0.291           0.771\nL14.UNRATE           0.054457         0.113221            0.481           0.631\nL14.FEDFUNDS         0.331168         0.197793            1.674           0.094\nL15.Rate             0.015985         0.029312            0.545           0.586\nL15.M2SL             0.000394         0.000642            0.614           0.539\nL15.UNRATE          -0.117604         0.115853           -1.015           0.310\nL15.FEDFUNDS        -0.323037         0.193145           -1.673           0.094\nL16.Rate             0.036155         0.029030            1.245           0.213\nL16.M2SL            -0.000189         0.000643           -0.294           0.769\nL16.UNRATE           0.121921         0.115362            1.057           0.291\nL16.FEDFUNDS         0.018220         0.196287            0.093           0.926\nL17.Rate            -0.022446         0.029285           -0.766           0.443\nL17.M2SL            -0.000302         0.000672           -0.450           0.653\nL17.UNRATE           0.019439         0.113685            0.171           0.864\nL17.FEDFUNDS         0.063201         0.192453            0.328           0.743\nL18.Rate            -0.023276         0.028975           -0.803           0.422\nL18.M2SL             0.000280         0.000682            0.412           0.681\nL18.UNRATE           0.054819         0.111622            0.491           0.623\nL18.FEDFUNDS         0.144174         0.191644            0.752           0.452\nL19.Rate             0.052062         0.029149            1.786           0.074\nL19.M2SL            -0.000283         0.000655           -0.432           0.666\nL19.UNRATE          -0.157875         0.110845           -1.424           0.154\nL19.FEDFUNDS        -0.111704         0.189078           -0.591           0.555\nL20.Rate            -0.014085         0.040124           -0.351           0.726\nL20.M2SL             0.000195         0.000664            0.293           0.769\nL20.UNRATE           0.001279         0.113589            0.011           0.991\nL20.FEDFUNDS        -0.102059         0.189758           -0.538           0.591\nL21.Rate            -0.048667         0.054168           -0.898           0.369\nL21.M2SL             0.000608         0.000673            0.902           0.367\nL21.UNRATE           0.007698         0.115801            0.066           0.947\nL21.FEDFUNDS         0.272331         0.192102            1.418           0.156\nL22.Rate             0.042694         0.053199            0.803           0.422\nL22.M2SL            -0.000421         0.000668           -0.630           0.529\nL22.UNRATE           0.011728         0.117839            0.100           0.921\nL22.FEDFUNDS        -0.274493         0.191138           -1.436           0.151\nL23.Rate            -0.021691         0.052811           -0.411           0.681\nL23.M2SL            -0.000357         0.000649           -0.550           0.582\nL23.UNRATE          -0.067770         0.114883           -0.590           0.555\nL23.FEDFUNDS         0.305233         0.193211            1.580           0.114\nL24.Rate             0.008299         0.051452            0.161           0.872\nL24.M2SL             0.001059         0.000618            1.715           0.086\nL24.UNRATE           0.076244         0.111441            0.684           0.494\nL24.FEDFUNDS        -0.208031         0.184378           -1.128           0.259\nL25.Rate             0.019411         0.033338            0.582           0.560\nL25.M2SL            -0.000755         0.000426           -1.774           0.076\nL25.UNRATE          -0.013069         0.078648           -0.166           0.868\nL25.FEDFUNDS        -0.028707         0.103525           -0.277           0.782\n===============================================================================\n\nCorrelation matrix of residuals\n                Rate      M2SL    UNRATE  FEDFUNDS\nRate        1.000000 -0.298741  0.066972  0.141187\nM2SL       -0.298741  1.000000  0.085209 -0.188178\nUNRATE      0.066972  0.085209  1.000000  0.107346\nFEDFUNDS    0.141187 -0.188178  0.107346  1.000000\n\n"
     },
     "metadata": {}
    }
   ]
  },
  {
   "cell_type": "code",
   "metadata": {
    "cell_id": "277965d4309e4d05a95abb03f999fab3",
    "tags": [],
    "deepnote_to_be_reexecuted": false,
    "source_hash": "50113081",
    "execution_start": 1648966842010,
    "execution_millis": 0,
    "deepnote_cell_type": "code",
    "deepnote_cell_height": 153
   },
   "source": "var_preds = []\n\nfor i in range(0, len(reg_df[\"Rate\"]))[2:]:\n    prediction = 1.228529*reg_df[\"Rate\"][i-1] - 0.493952*reg_df[\"Rate\"][i-2]\n    var_preds.append(prediction)",
   "execution_count": null,
   "outputs": []
  },
  {
   "cell_type": "code",
   "metadata": {
    "cell_id": "609890d13c2a4759a5f3e2ea778865a6",
    "tags": [],
    "deepnote_to_be_reexecuted": false,
    "source_hash": "e8eecaa8",
    "execution_start": 1648966851349,
    "execution_millis": 549,
    "deepnote_cell_type": "code",
    "deepnote_cell_height": 503,
    "deepnote_output_heights": [
     280
    ]
   },
   "source": "plt.plot(train[\"Date\"], train[\"Rate\"], label=\"Training\")\nplt.plot(test[\"Date\"], test[\"Rate\"], label=\"Testing\")\nplt.plot(test[\"Date\"], var_preds[-52:], label=\"Predictions\")\nplt.legend(loc=\"upper left\")\nplt.xlabel(\"Month\")\nplt.ylabel(\"Inflation Rate\")\nplt.title(\"Monthly Inflation Rate from 2000 to 2021\")\nplt.show()",
   "execution_count": null,
   "outputs": [
    {
     "data": {
      "text/plain": "<Figure size 432x288 with 1 Axes>",
      "image/png": "[encoded data removed]"
     },
     "metadata": {
      "needs_background": "light",
      "image/png": {
       "width": 384,
       "height": 278
      }
     },
     "output_type": "display_data"
    }
   ]
  },
  {
   "cell_type": "code",
   "metadata": {
    "cell_id": "b571f18a18fb48b0bd6b476c2013ce3d",
    "tags": [],
    "deepnote_to_be_reexecuted": false,
    "source_hash": "d6c3803",
    "execution_start": 1648966914366,
    "execution_millis": 1,
    "deepnote_cell_type": "code",
    "deepnote_cell_height": 154.1875,
    "deepnote_output_heights": [
     21.1875
    ]
   },
   "source": "rmse_var = np.sqrt(np.mean(sum((test[\"Rate\"] - var_preds[-52:])**2)))\n\nrmse_var",
   "execution_count": null,
   "outputs": [
    {
     "output_type": "execute_result",
     "execution_count": 90,
     "data": {
      "text/plain": "4.327103204919749"
     },
     "metadata": {}
    }
   ]
  },
  {
   "cell_type": "code",
   "metadata": {
    "cell_id": "e293a21ecef14d10be651d2d96ee7da9",
    "tags": [],
    "deepnote_to_be_reexecuted": false,
    "source_hash": "94e9c20f",
    "execution_start": 1648965618501,
    "execution_millis": 1283,
    "deepnote_cell_type": "code",
    "deepnote_cell_height": 417.1875,
    "deepnote_output_heights": [
     21.1875,
     250
    ]
   },
   "source": "plt.plot(inflation[\"Date\"], inflation[\"Rate\"])\nplt.plot(inflation[\"Date\"][2:].reset_index().drop([\"index\"], ax), var_preds)",
   "execution_count": null,
   "outputs": [
    {
     "output_type": "execute_result",
     "execution_count": 60,
     "data": {
      "text/plain": "[<matplotlib.lines.Line2D at 0x7f87097c91d0>]"
     },
     "metadata": {}
    },
    {
     "data": {
      "text/plain": "<Figure size 432x288 with 1 Axes>",
      "image/png": "[encoded data removed]"
     },
     "metadata": {
      "needs_background": "light",
      "image/png": {
       "width": 370,
       "height": 248
      }
     },
     "output_type": "display_data"
    }
   ]
  },
  {
   "cell_type": "code",
   "metadata": {
    "cell_id": "d793826223bb4a34b045bb45a5a657b9",
    "tags": [],
    "deepnote_to_be_reexecuted": false,
    "source_hash": "9c6eafcb",
    "execution_start": 1648966855924,
    "execution_millis": 543,
    "deepnote_cell_type": "code",
    "deepnote_cell_height": 519.1875,
    "deepnote_output_heights": [
     21.1875,
     280
    ]
   },
   "source": "plt.plot(inflation[\"Date\"], inflation[\"Rate\"], label=\"Actual\")\nplt.plot(inflation[\"Date\"][2:].reset_index().drop(\"index\", axis=1)[\"Date\"], var_preds, label=\"Predicted\")\nplt.xlabel(\"Month\")\nplt.ylabel(\"Inflation Rate\")\nplt.title(\"Monthly Inflation Rate from 2000 to 2021\")\nplt.legend()",
   "execution_count": null,
   "outputs": [
    {
     "output_type": "execute_result",
     "execution_count": 89,
     "data": {
      "text/plain": "<matplotlib.legend.Legend at 0x7f870642c790>"
     },
     "metadata": {}
    },
    {
     "data": {
      "text/plain": "<Figure size 432x288 with 1 Axes>",
      "image/png": "[encoded data removed]"
     },
     "metadata": {
      "needs_background": "light",
      "image/png": {
       "width": 384,
       "height": 278
      }
     },
     "output_type": "display_data"
    }
   ]
  },
  {
   "cell_type": "code",
   "metadata": {
    "cell_id": "1d731b55299d4aa0af98c75330b7d9a7",
    "tags": [],
    "deepnote_cell_type": "code",
    "deepnote_cell_height": 66
   },
   "source": "",
   "execution_count": null,
   "outputs": []
  },
  {
   "cell_type": "markdown",
   "source": "<a style='text-decoration:none;line-height:16px;display:flex;color:#5B5B62;padding:10px;justify-content:end;' href='https://deepnote.com?utm_source=created-in-deepnote-cell&projectId=bdd32877-ba3e-4763-825b-44536f4850db' target=\"_blank\">\n<img alt='Created in deepnote.com' style='display:inline;max-height:16px;margin:0px;margin-right:7.5px;' src='data:image/svg+xml;base64,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' > </img>\nCreated in <span style='font-weight:600;margin-left:4px;'>Deepnote</span></a>",
   "metadata": {
    "tags": [],
    "created_in_deepnote_cell": true,
    "deepnote_cell_type": "markdown"
   }
  }
 ],
 "nbformat": 4,
 "nbformat_minor": 2,
 "metadata": {
  "orig_nbformat": 2,
  "deepnote": {
   "is_reactive": false
  },
  "deepnote_notebook_id": "42d20771-8ed7-4b73-a64f-2f24187336c6",
  "deepnote_execution_queue": []
 }
}